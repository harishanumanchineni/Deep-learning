{
  "nbformat": 4,
  "nbformat_minor": 0,
  "metadata": {
    "colab": {
      "name": "Homework_3_solution_DL_Final.ipynb",
      "provenance": [],
      "collapsed_sections": []
    },
    "kernelspec": {
      "name": "python3",
      "display_name": "Python 3"
    },
    "accelerator": "GPU"
  },
  "cells": [
    {
      "cell_type": "markdown",
      "metadata": {
        "id": "hXVpl7jLbw_6",
        "colab_type": "text"
      },
      "source": [
        "## (A) Implement a CNN architecture for FashionMNIST dataset (15 points)\n",
        "\n",
        "\n",
        "*   Basic CNN architecture (5 points)\n",
        "*   Include at least one layer of\n",
        "      1.   ResNet module (5 points)\n",
        "      2.   Inception Module (5 points)\n",
        "\n",
        "## (B) Compare the performance of your CNN architecture with \"best\" architecture from HW2. (5 points)\n",
        "You can reimplement your HW2 architecture in Keras to make the comparison fair.  \n"
      ]
    },
    {
      "cell_type": "markdown",
      "metadata": {
        "id": "cPNPgSrD_YDN",
        "colab_type": "text"
      },
      "source": [
        "Note: The code is compatible with version 1.x of tensorflow"
      ]
    },
    {
      "cell_type": "code",
      "metadata": {
        "id": "EjomvBXO3YQM",
        "colab_type": "code",
        "outputId": "c8c4b0b3-3458-45e6-d7ae-0f2d18af49e7",
        "colab": {
          "base_uri": "https://localhost:8080/",
          "height": 35
        }
      },
      "source": [
        "%tensorflow_version 1.x\n",
        "import tensorflow\n",
        "print(tensorflow.__version__)"
      ],
      "execution_count": 0,
      "outputs": [
        {
          "output_type": "stream",
          "text": [
            "1.15.2\n"
          ],
          "name": "stdout"
        }
      ]
    },
    {
      "cell_type": "code",
      "metadata": {
        "id": "F0wQx4QVq3JJ",
        "colab_type": "code",
        "outputId": "3adefc2f-8ca5-476e-ce63-d3bed585a4bf",
        "colab": {
          "base_uri": "https://localhost:8080/",
          "height": 52
        }
      },
      "source": [
        "from keras.datasets import fashion_mnist\n",
        "\n",
        "(x_train, y_train), (x_test, y_test) = fashion_mnist.load_data()\n",
        "\n",
        "x_train.shape"
      ],
      "execution_count": 0,
      "outputs": [
        {
          "output_type": "stream",
          "text": [
            "Using TensorFlow backend.\n"
          ],
          "name": "stderr"
        },
        {
          "output_type": "execute_result",
          "data": {
            "text/plain": [
              "(60000, 28, 28)"
            ]
          },
          "metadata": {
            "tags": []
          },
          "execution_count": 3
        }
      ]
    },
    {
      "cell_type": "code",
      "metadata": {
        "id": "_aiteRTDBBIP",
        "colab_type": "code",
        "colab": {}
      },
      "source": [
        "from keras.utils import to_categorical\n",
        "import numpy as np\n",
        "import matplotlib.pyplot as plt\n",
        "%matplotlib inline"
      ],
      "execution_count": 0,
      "outputs": []
    },
    {
      "cell_type": "markdown",
      "metadata": {
        "id": "tPaIPaRXA0q7",
        "colab_type": "text"
      },
      "source": [
        "# Data prepocessing"
      ]
    },
    {
      "cell_type": "code",
      "metadata": {
        "id": "CTJhPPIjq5p7",
        "colab_type": "code",
        "outputId": "9aa947e8-f7c6-443d-b434-890520dcff6d",
        "colab": {
          "base_uri": "https://localhost:8080/",
          "height": 52
        }
      },
      "source": [
        "y_train = to_categorical(y_train)\n",
        "y_test = to_categorical(y_test)\n",
        "\n",
        "x_train = x_train.astype('float32')\n",
        "x_test = x_test.astype('float32')\n",
        "x_train /= 255\n",
        "x_test /= 255\n",
        "\n",
        "print(\"training data shape\", x_train.shape)\n",
        "print(\"tesing data shape\",x_test.shape)"
      ],
      "execution_count": 0,
      "outputs": [
        {
          "output_type": "stream",
          "text": [
            "training data shape (60000, 28, 28)\n",
            "tesing data shape (10000, 28, 28)\n"
          ],
          "name": "stdout"
        }
      ]
    },
    {
      "cell_type": "code",
      "metadata": {
        "id": "iYVDkyzeBUn_",
        "colab_type": "code",
        "outputId": "2bf077bb-010f-4480-820a-a4e59411aac0",
        "colab": {
          "base_uri": "https://localhost:8080/",
          "height": 283
        }
      },
      "source": [
        "plt.imshow(x_train[3, :].reshape((28, 28)))"
      ],
      "execution_count": 0,
      "outputs": [
        {
          "output_type": "execute_result",
          "data": {
            "text/plain": [
              "<matplotlib.image.AxesImage at 0x7fc8ab05c2e8>"
            ]
          },
          "metadata": {
            "tags": []
          },
          "execution_count": 6
        },
        {
          "output_type": "display_data",
          "data": {
            "image/png": "[encoded data removed]",
            "text/plain": [
              "<Figure size 432x288 with 1 Axes>"
            ]
          },
          "metadata": {
            "tags": []
          }
        }
      ]
    },
    {
      "cell_type": "markdown",
      "metadata": {
        "id": "KAgYDxbWJHPN",
        "colab_type": "text"
      },
      "source": [
        "# Random Shuffling of the data set"
      ]
    },
    {
      "cell_type": "code",
      "metadata": {
        "id": "y3kj6Qk9Bhqn",
        "colab_type": "code",
        "colab": {}
      },
      "source": [
        "indices = np.arange(x_train.shape[0])\n",
        "np.random.shuffle(indices)\n",
        "data_input = x_train[indices]\n",
        "labels = y_train[indices]\n",
        "\n",
        "sample_size = 60000-int(60000*0.01)\n",
        "x_train = data_input[:sample_size]\n",
        "y_train = labels[:sample_size]\n",
        "x_vali = data_input[sample_size:60000]\n",
        "y_vali = labels[sample_size: 60000]"
      ],
      "execution_count": 0,
      "outputs": []
    },
    {
      "cell_type": "code",
      "metadata": {
        "id": "bCKT2S6tBsAO",
        "colab_type": "code",
        "outputId": "9b39f040-e096-41c3-adb3-676001c9d15a",
        "colab": {
          "base_uri": "https://localhost:8080/",
          "height": 69
        }
      },
      "source": [
        "img_rows, img_cols = 28, 28\n",
        "# 1 channel (grayscale, 3 in the case of color, 1 each for Red, Green and Blue)\n",
        "input_shape = (img_rows, img_cols, 1)   \n",
        "\n",
        "x_train = x_train.reshape(x_train.shape[0], img_rows, img_cols, 1)\n",
        "x_test = x_test.reshape(x_test.shape[0], img_rows, img_cols, 1)\n",
        "x_vali = x_vali.reshape(x_vali.shape[0], img_rows, img_cols, 1)\n",
        "\n",
        "print(\"reshaped training data shape\", x_train.shape)\n",
        "print(\"reshaped testing data shape\",x_test.shape)\n",
        "print(\"reshaped validate data shape\",x_vali.shape)"
      ],
      "execution_count": 0,
      "outputs": [
        {
          "output_type": "stream",
          "text": [
            "reshaped training data shape (59400, 28, 28, 1)\n",
            "reshaped testing data shape (10000, 28, 28, 1)\n",
            "reshaped validate data shape (600, 28, 28, 1)\n"
          ],
          "name": "stdout"
        }
      ]
    },
    {
      "cell_type": "markdown",
      "metadata": {
        "id": "0VbT7a1fJUMB",
        "colab_type": "text"
      },
      "source": [
        "# Importing All Required Libraries"
      ]
    },
    {
      "cell_type": "code",
      "metadata": {
        "id": "veMkUqxDCGDA",
        "colab_type": "code",
        "colab": {}
      },
      "source": [
        "from keras.models import Sequential,Model\n",
        "from keras.layers import Dense, Dropout, Flatten,Conv2D, MaxPooling2D, Activation,Input\n",
        "from keras.layers.normalization import BatchNormalization\n",
        "from keras import optimizers\n",
        "import keras\n"
      ],
      "execution_count": 0,
      "outputs": []
    },
    {
      "cell_type": "code",
      "metadata": {
        "id": "YY6lXKVYCqWN",
        "colab_type": "code",
        "colab": {}
      },
      "source": [
        "batch_size = 32\n",
        "num_classes = 10\n",
        "epochs = 1000"
      ],
      "execution_count": 0,
      "outputs": []
    },
    {
      "cell_type": "markdown",
      "metadata": {
        "id": "IRjdX0gGJhmU",
        "colab_type": "text"
      },
      "source": [
        "# Network Architecture "
      ]
    },
    {
      "cell_type": "markdown",
      "metadata": {
        "id": "y_3N6JPIJo6u",
        "colab_type": "text"
      },
      "source": [
        "# INPUT --->layer(Inception Module) --->layer(Restnet Module) --->layers of (Basic CNN)--->flatten---> softmax--->OUTPUT"
      ]
    },
    {
      "cell_type": "code",
      "metadata": {
        "id": "VocFBUQfNwKB",
        "colab_type": "code",
        "outputId": "f20d7643-9c7e-4e69-e2aa-7e972910d3e5",
        "colab": {
          "base_uri": "https://localhost:8080/",
          "height": 1000
        }
      },
      "source": [
        "#input is the same for the CNN model\n",
        "inputs = Input(shape=(28,28,1))\n",
        "\n",
        "#adding inception module at the first layer\n",
        "tower_1 = Conv2D(64, (1,1), padding='same', activation='relu')(inputs) #64 filters or convolutions of (1,1)\n",
        "tower_1 = Conv2D(64, (3,3), padding='same', activation='relu')(tower_1) #64 filters or convolutions  of (3,3)\n",
        "\n",
        "tower_2 = Conv2D(64, (1,1), padding='same', activation='relu')(inputs) # 64 filters of (1,1)\n",
        "tower_2 = Conv2D(64, (5,5), padding='same', activation='relu')(tower_2) # 64 filters of (5,5)\n",
        "\n",
        "tower_3 = MaxPooling2D((3,3), padding='same', strides=(1,1))(inputs)\n",
        "tower_3 = Conv2D(64, (1,1),   padding='same', activation='relu')(tower_3)\n",
        "\n",
        "l_1_out = keras.layers.concatenate([tower_1,tower_2,tower_3],axis=1)\n",
        "\n",
        "#Resnet Implementation\n",
        "l2 = Conv2D(64,(3,3))(l_1_out)\n",
        "l2 = Activation('relu')(l2)\n",
        "l2 = MaxPooling2D(pool_size=(2,2))(l2)\n",
        "l2_out_f = Dropout(0.5)(l2)\n",
        "l3_intermediate = Conv2D(64,(3,3),padding='same',activation='relu')(l2_out_f)\n",
        "l3_out = keras.layers.add([l2_out_f,l3_intermediate])\n",
        "\n",
        "l4_out = Conv2D(64,(3,3),padding='same',activation='relu')(l3_out)\n",
        "l4_out = Dropout(0.5)(l4_out)\n",
        "\n",
        "l5_out = Conv2D(64,(3,3),padding='same',activation='relu')(l4_out)\n",
        "l5_out = Dropout(0.5)(l5_out)\n",
        "\n",
        "l6_out = Conv2D(64,(3,3),padding='same',activation='relu')(l5_out)\n",
        "\n",
        "out = Flatten()(l6_out)\n",
        "output = Dense(10)(out)\n",
        "output = Activation('softmax')(output)\n",
        "model = Model([inputs],output)\n",
        "model.summary()\n",
        "model.compile(loss='categorical_crossentropy',optimizer = optimizers.Adam(lr = 0.001),metrics=['accuracy'])\n",
        "\n",
        "\n",
        "\n",
        "\n"
      ],
      "execution_count": 0,
      "outputs": [
        {
          "output_type": "stream",
          "text": [
            "WARNING:tensorflow:From /usr/local/lib/python3.6/dist-packages/keras/backend/tensorflow_backend.py:66: The name tf.get_default_graph is deprecated. Please use tf.compat.v1.get_default_graph instead.\n",
            "\n",
            "WARNING:tensorflow:From /usr/local/lib/python3.6/dist-packages/keras/backend/tensorflow_backend.py:541: The name tf.placeholder is deprecated. Please use tf.compat.v1.placeholder instead.\n",
            "\n",
            "WARNING:tensorflow:From /usr/local/lib/python3.6/dist-packages/keras/backend/tensorflow_backend.py:4432: The name tf.random_uniform is deprecated. Please use tf.random.uniform instead.\n",
            "\n",
            "WARNING:tensorflow:From /usr/local/lib/python3.6/dist-packages/keras/backend/tensorflow_backend.py:4267: The name tf.nn.max_pool is deprecated. Please use tf.nn.max_pool2d instead.\n",
            "\n",
            "WARNING:tensorflow:From /usr/local/lib/python3.6/dist-packages/keras/backend/tensorflow_backend.py:148: The name tf.placeholder_with_default is deprecated. Please use tf.compat.v1.placeholder_with_default instead.\n",
            "\n",
            "WARNING:tensorflow:From /usr/local/lib/python3.6/dist-packages/keras/backend/tensorflow_backend.py:3733: calling dropout (from tensorflow.python.ops.nn_ops) with keep_prob is deprecated and will be removed in a future version.\n",
            "Instructions for updating:\n",
            "Please use `rate` instead of `keep_prob`. Rate should be set to `rate = 1 - keep_prob`.\n",
            "Model: \"model_1\"\n",
            "__________________________________________________________________________________________________\n",
            "Layer (type)                    Output Shape         Param #     Connected to                     \n",
            "==================================================================================================\n",
            "input_1 (InputLayer)            (None, 28, 28, 1)    0                                            \n",
            "__________________________________________________________________________________________________\n",
            "conv2d_1 (Conv2D)               (None, 28, 28, 64)   128         input_1[0][0]                    \n",
            "__________________________________________________________________________________________________\n",
            "conv2d_3 (Conv2D)               (None, 28, 28, 64)   128         input_1[0][0]                    \n",
            "__________________________________________________________________________________________________\n",
            "max_pooling2d_1 (MaxPooling2D)  (None, 28, 28, 1)    0           input_1[0][0]                    \n",
            "__________________________________________________________________________________________________\n",
            "conv2d_2 (Conv2D)               (None, 28, 28, 64)   36928       conv2d_1[0][0]                   \n",
            "__________________________________________________________________________________________________\n",
            "conv2d_4 (Conv2D)               (None, 28, 28, 64)   102464      conv2d_3[0][0]                   \n",
            "__________________________________________________________________________________________________\n",
            "conv2d_5 (Conv2D)               (None, 28, 28, 64)   128         max_pooling2d_1[0][0]            \n",
            "__________________________________________________________________________________________________\n",
            "concatenate_1 (Concatenate)     (None, 84, 28, 64)   0           conv2d_2[0][0]                   \n",
            "                                                                 conv2d_4[0][0]                   \n",
            "                                                                 conv2d_5[0][0]                   \n",
            "__________________________________________________________________________________________________\n",
            "conv2d_6 (Conv2D)               (None, 82, 26, 64)   36928       concatenate_1[0][0]              \n",
            "__________________________________________________________________________________________________\n",
            "activation_1 (Activation)       (None, 82, 26, 64)   0           conv2d_6[0][0]                   \n",
            "__________________________________________________________________________________________________\n",
            "max_pooling2d_2 (MaxPooling2D)  (None, 41, 13, 64)   0           activation_1[0][0]               \n",
            "__________________________________________________________________________________________________\n",
            "dropout_1 (Dropout)             (None, 41, 13, 64)   0           max_pooling2d_2[0][0]            \n",
            "__________________________________________________________________________________________________\n",
            "conv2d_7 (Conv2D)               (None, 41, 13, 64)   36928       dropout_1[0][0]                  \n",
            "__________________________________________________________________________________________________\n",
            "add_1 (Add)                     (None, 41, 13, 64)   0           dropout_1[0][0]                  \n",
            "                                                                 conv2d_7[0][0]                   \n",
            "__________________________________________________________________________________________________\n",
            "conv2d_8 (Conv2D)               (None, 41, 13, 64)   36928       add_1[0][0]                      \n",
            "__________________________________________________________________________________________________\n",
            "dropout_2 (Dropout)             (None, 41, 13, 64)   0           conv2d_8[0][0]                   \n",
            "__________________________________________________________________________________________________\n",
            "conv2d_9 (Conv2D)               (None, 41, 13, 64)   36928       dropout_2[0][0]                  \n",
            "__________________________________________________________________________________________________\n",
            "dropout_3 (Dropout)             (None, 41, 13, 64)   0           conv2d_9[0][0]                   \n",
            "__________________________________________________________________________________________________\n",
            "conv2d_10 (Conv2D)              (None, 41, 13, 64)   36928       dropout_3[0][0]                  \n",
            "__________________________________________________________________________________________________\n",
            "flatten_1 (Flatten)             (None, 34112)        0           conv2d_10[0][0]                  \n",
            "__________________________________________________________________________________________________\n",
            "dense_1 (Dense)                 (None, 10)           341130      flatten_1[0][0]                  \n",
            "__________________________________________________________________________________________________\n",
            "activation_2 (Activation)       (None, 10)           0           dense_1[0][0]                    \n",
            "==================================================================================================\n",
            "Total params: 665,546\n",
            "Trainable params: 665,546\n",
            "Non-trainable params: 0\n",
            "__________________________________________________________________________________________________\n",
            "WARNING:tensorflow:From /usr/local/lib/python3.6/dist-packages/keras/optimizers.py:793: The name tf.train.Optimizer is deprecated. Please use tf.compat.v1.train.Optimizer instead.\n",
            "\n",
            "WARNING:tensorflow:From /usr/local/lib/python3.6/dist-packages/keras/backend/tensorflow_backend.py:3576: The name tf.log is deprecated. Please use tf.math.log instead.\n",
            "\n"
          ],
          "name": "stdout"
        }
      ]
    },
    {
      "cell_type": "markdown",
      "metadata": {
        "id": "HKqr1Ux7c235",
        "colab_type": "text"
      },
      "source": [
        ""
      ]
    },
    {
      "cell_type": "code",
      "metadata": {
        "id": "BexJ_dUuCscw",
        "colab_type": "code",
        "outputId": "ee1584af-ca41-4faa-87f2-aa9e2bc12263",
        "colab": {
          "base_uri": "https://localhost:8080/",
          "height": 661
        }
      },
      "source": [
        "# simple early stopping\n",
        "from keras.callbacks import EarlyStopping\n",
        "es = EarlyStopping(monitor='val_loss',min_delta=0,patience=2,verbose=0, mode='auto')\n",
        "\n",
        "history = model.fit(x_train, y_train, batch_size = batch_size,\n",
        "        epochs=epochs, verbose=1,validation_data=(x_vali, y_vali),callbacks=[es])\n",
        "\n"
      ],
      "execution_count": 0,
      "outputs": [
        {
          "output_type": "stream",
          "text": [
            "WARNING:tensorflow:From /tensorflow-1.15.2/python3.6/tensorflow_core/python/ops/math_grad.py:1424: where (from tensorflow.python.ops.array_ops) is deprecated and will be removed in a future version.\n",
            "Instructions for updating:\n",
            "Use tf.where in 2.0, which has the same broadcast rule as np.where\n",
            "WARNING:tensorflow:From /usr/local/lib/python3.6/dist-packages/keras/backend/tensorflow_backend.py:1033: The name tf.assign_add is deprecated. Please use tf.compat.v1.assign_add instead.\n",
            "\n",
            "WARNING:tensorflow:From /usr/local/lib/python3.6/dist-packages/keras/backend/tensorflow_backend.py:1020: The name tf.assign is deprecated. Please use tf.compat.v1.assign instead.\n",
            "\n",
            "WARNING:tensorflow:From /usr/local/lib/python3.6/dist-packages/keras/backend/tensorflow_backend.py:3005: The name tf.Session is deprecated. Please use tf.compat.v1.Session instead.\n",
            "\n",
            "Train on 59400 samples, validate on 600 samples\n",
            "Epoch 1/1000\n",
            "WARNING:tensorflow:From /usr/local/lib/python3.6/dist-packages/keras/backend/tensorflow_backend.py:190: The name tf.get_default_session is deprecated. Please use tf.compat.v1.get_default_session instead.\n",
            "\n",
            "WARNING:tensorflow:From /usr/local/lib/python3.6/dist-packages/keras/backend/tensorflow_backend.py:197: The name tf.ConfigProto is deprecated. Please use tf.compat.v1.ConfigProto instead.\n",
            "\n",
            "WARNING:tensorflow:From /usr/local/lib/python3.6/dist-packages/keras/backend/tensorflow_backend.py:207: The name tf.global_variables is deprecated. Please use tf.compat.v1.global_variables instead.\n",
            "\n",
            "WARNING:tensorflow:From /usr/local/lib/python3.6/dist-packages/keras/backend/tensorflow_backend.py:216: The name tf.is_variable_initialized is deprecated. Please use tf.compat.v1.is_variable_initialized instead.\n",
            "\n",
            "WARNING:tensorflow:From /usr/local/lib/python3.6/dist-packages/keras/backend/tensorflow_backend.py:223: The name tf.variables_initializer is deprecated. Please use tf.compat.v1.variables_initializer instead.\n",
            "\n",
            "59400/59400 [==============================] - 65s 1ms/step - loss: 0.4701 - acc: 0.8304 - val_loss: 0.3429 - val_acc: 0.8817\n",
            "Epoch 2/1000\n",
            "59400/59400 [==============================] - 51s 867us/step - loss: 0.3107 - acc: 0.8878 - val_loss: 0.3165 - val_acc: 0.8900\n",
            "Epoch 3/1000\n",
            "59400/59400 [==============================] - 52s 868us/step - loss: 0.2754 - acc: 0.9001 - val_loss: 0.2692 - val_acc: 0.9000\n",
            "Epoch 4/1000\n",
            "59400/59400 [==============================] - 51s 864us/step - loss: 0.2583 - acc: 0.9064 - val_loss: 0.2550 - val_acc: 0.9117\n",
            "Epoch 5/1000\n",
            "59400/59400 [==============================] - 51s 862us/step - loss: 0.2485 - acc: 0.9089 - val_loss: 0.2374 - val_acc: 0.9183\n",
            "Epoch 6/1000\n",
            "59400/59400 [==============================] - 51s 862us/step - loss: 0.2409 - acc: 0.9118 - val_loss: 0.2279 - val_acc: 0.9250\n",
            "Epoch 7/1000\n",
            "59400/59400 [==============================] - 51s 861us/step - loss: 0.2328 - acc: 0.9141 - val_loss: 0.2441 - val_acc: 0.9150\n",
            "Epoch 8/1000\n",
            "59400/59400 [==============================] - 51s 861us/step - loss: 0.2274 - acc: 0.9157 - val_loss: 0.2310 - val_acc: 0.9133\n"
          ],
          "name": "stdout"
        }
      ]
    },
    {
      "cell_type": "code",
      "metadata": {
        "id": "O8WNfUPqApJZ",
        "colab_type": "code",
        "colab": {}
      },
      "source": [
        "loss = history.history['loss']\n",
        "val_loss = history.history['val_loss']\n",
        "acc = history.history['acc']\n",
        "val_acc = history.history['val_acc']"
      ],
      "execution_count": 0,
      "outputs": []
    },
    {
      "cell_type": "code",
      "metadata": {
        "id": "O4lfMbb5AyKP",
        "colab_type": "code",
        "outputId": "b8ebaf5f-695e-4864-c91c-894d6f58052e",
        "colab": {
          "base_uri": "https://localhost:8080/",
          "height": 313
        }
      },
      "source": [
        "epochs = range(1, len(loss)+1)\n",
        "\n",
        "plt.plot(epochs, loss, 'ko', label = 'Training Loss')\n",
        "plt.plot(epochs, val_loss, 'k', label = 'Validation Loss')\n",
        "plt.xlabel('Epochs')\n",
        "plt.ylabel('Loss')\n",
        "plt.title('Training and Validation Loss')\n",
        "plt.legend()"
      ],
      "execution_count": 0,
      "outputs": [
        {
          "output_type": "execute_result",
          "data": {
            "text/plain": [
              "<matplotlib.legend.Legend at 0x7fc8a9f8a1d0>"
            ]
          },
          "metadata": {
            "tags": []
          },
          "execution_count": 14
        },
        {
          "output_type": "display_data",
          "data": {
            "image/png": "[encoded data removed]",
            "text/plain": [
              "<Figure size 432x288 with 1 Axes>"
            ]
          },
          "metadata": {
            "tags": []
          }
        }
      ]
    },
    {
      "cell_type": "code",
      "metadata": {
        "id": "HUHaHfEMBXJc",
        "colab_type": "code",
        "outputId": "a1e76971-7f8f-4796-c6a1-e657a0b904dd",
        "colab": {
          "base_uri": "https://localhost:8080/",
          "height": 313
        }
      },
      "source": [
        "plt.plot(epochs, acc, 'yo', label = 'Training Accuracy')\n",
        "plt.plot(epochs, val_acc, 'y', label = 'Validation Accuracy')\n",
        "plt.xlabel('Epochs')\n",
        "plt.ylabel('Accuracy')\n",
        "plt.title('Training and Validation Accuracy')\n",
        "plt.legend()"
      ],
      "execution_count": 0,
      "outputs": [
        {
          "output_type": "execute_result",
          "data": {
            "text/plain": [
              "<matplotlib.legend.Legend at 0x7fc89c648c18>"
            ]
          },
          "metadata": {
            "tags": []
          },
          "execution_count": 15
        },
        {
          "output_type": "display_data",
          "data": {
            "image/png": "[encoded data removed]",
            "text/plain": [
              "<Figure size 432x288 with 1 Axes>"
            ]
          },
          "metadata": {
            "tags": []
          }
        }
      ]
    },
    {
      "cell_type": "markdown",
      "metadata": {
        "id": "Yj4_SDxEIz0N",
        "colab_type": "text"
      },
      "source": [
        "# Model accuracy with test data"
      ]
    },
    {
      "cell_type": "code",
      "metadata": {
        "id": "7SJtbrYd1Ud3",
        "colab_type": "code",
        "outputId": "b98ce69a-d284-4e2a-914d-02185aaa1ab3",
        "colab": {
          "base_uri": "https://localhost:8080/",
          "height": 52
        }
      },
      "source": [
        "scores = model.evaluate(x=x_test, y=y_test)\n",
        "print(\"The accuracy of the model with test data \"+ str(scores[1]*100)+ \" %\")"
      ],
      "execution_count": 0,
      "outputs": [
        {
          "output_type": "stream",
          "text": [
            "10000/10000 [==============================] - 3s 259us/step\n",
            "The accuracy of the model with test data 91.28 %\n"
          ],
          "name": "stdout"
        }
      ]
    },
    {
      "cell_type": "markdown",
      "metadata": {
        "id": "kN52EimFJvjF",
        "colab_type": "text"
      },
      "source": [
        "# Observations and Things Learnt from the implementation:\n",
        "\n",
        "\n",
        "1) Initially tried the model with out GPU which took longer execution time,adding GPU speeded up the exection \n",
        "\n",
        "2) tried with different batch sizes lower batch size better learning when compared to high batch size\n",
        "\n",
        "2)Initially implemented with out Dropout features which brought instabilities in learning but adding drop out features helped in better training of the network\n",
        "\n",
        "    a) better learning\n",
        "\n",
        "    b) increased number of epochs (in a positive way) as the epochs increase   better accuracy\n",
        "  \n",
        "\n",
        "3)The model with out early stopping was getting over fitting the feature early stopping helped the model stop at the right option where over fitting is avoided\n",
        "\n",
        "4) Increasing the layers increased the number of parameters to be learnt and is in proportional with execution time i.e more layers more execution time\n",
        "\n",
        "5) But increasing the layers increased the stability in learning or training the model\n",
        "\n",
        "6)Add certain point increasing layers didnot help as there is no improvement in learning or training of the model \n"
      ]
    },
    {
      "cell_type": "markdown",
      "metadata": {
        "id": "v1TSadywAzGQ",
        "colab_type": "text"
      },
      "source": [
        ""
      ]
    },
    {
      "cell_type": "markdown",
      "metadata": {
        "id": "4MvvJFC3IoqB",
        "colab_type": "text"
      },
      "source": [
        "# HW - 2 Implementation with keras\n"
      ]
    },
    {
      "cell_type": "code",
      "metadata": {
        "id": "GUzvXs40MJto",
        "colab_type": "code",
        "outputId": "9e141258-900b-442c-f148-105119204e65",
        "colab": {
          "base_uri": "https://localhost:8080/",
          "height": 208
        }
      },
      "source": [
        "!pip install sklearn\n",
        "!pip install pandas\n",
        "!pip install numpy"
      ],
      "execution_count": 0,
      "outputs": [
        {
          "output_type": "stream",
          "text": [
            "Requirement already satisfied: sklearn in /usr/local/lib/python3.6/dist-packages (0.0)\n",
            "Requirement already satisfied: scikit-learn in /usr/local/lib/python3.6/dist-packages (from sklearn) (0.22.2.post1)\n",
            "Requirement already satisfied: scipy>=0.17.0 in /usr/local/lib/python3.6/dist-packages (from scikit-learn->sklearn) (1.4.1)\n",
            "Requirement already satisfied: numpy>=1.11.0 in /usr/local/lib/python3.6/dist-packages (from scikit-learn->sklearn) (1.18.2)\n",
            "Requirement already satisfied: joblib>=0.11 in /usr/local/lib/python3.6/dist-packages (from scikit-learn->sklearn) (0.14.1)\n",
            "Requirement already satisfied: pandas in /usr/local/lib/python3.6/dist-packages (0.25.3)\n",
            "Requirement already satisfied: pytz>=2017.2 in /usr/local/lib/python3.6/dist-packages (from pandas) (2018.9)\n",
            "Requirement already satisfied: numpy>=1.13.3 in /usr/local/lib/python3.6/dist-packages (from pandas) (1.18.2)\n",
            "Requirement already satisfied: python-dateutil>=2.6.1 in /usr/local/lib/python3.6/dist-packages (from pandas) (2.8.1)\n",
            "Requirement already satisfied: six>=1.5 in /usr/local/lib/python3.6/dist-packages (from python-dateutil>=2.6.1->pandas) (1.12.0)\n",
            "Requirement already satisfied: numpy in /usr/local/lib/python3.6/dist-packages (1.18.2)\n"
          ],
          "name": "stdout"
        }
      ]
    },
    {
      "cell_type": "code",
      "metadata": {
        "id": "owUW-KshMs9i",
        "colab_type": "code",
        "outputId": "7983d78a-8200-43cb-afd6-58f9a58a6ae4",
        "colab": {
          "base_uri": "https://localhost:8080/",
          "height": 765
        }
      },
      "source": [
        "!pip install keras tensorflow numpy mnist"
      ],
      "execution_count": 0,
      "outputs": [
        {
          "output_type": "stream",
          "text": [
            "Requirement already satisfied: keras in /usr/local/lib/python3.6/dist-packages (2.2.5)\n",
            "Requirement already satisfied: tensorflow in /tensorflow-1.15.2/python3.6 (1.15.2)\n",
            "Requirement already satisfied: numpy in /usr/local/lib/python3.6/dist-packages (1.18.2)\n",
            "Collecting mnist\n",
            "  Downloading https://files.pythonhosted.org/packages/c6/c4/5db3bfe009f8d71f1d532bbadbd0ec203764bba3a469e4703a889db8e5e0/mnist-0.2.2-py2.py3-none-any.whl\n",
            "Requirement already satisfied: h5py in /usr/local/lib/python3.6/dist-packages (from keras) (2.10.0)\n",
            "Requirement already satisfied: pyyaml in /usr/local/lib/python3.6/dist-packages (from keras) (3.13)\n",
            "Requirement already satisfied: keras-preprocessing>=1.1.0 in /usr/local/lib/python3.6/dist-packages (from keras) (1.1.0)\n",
            "Requirement already satisfied: six>=1.9.0 in /usr/local/lib/python3.6/dist-packages (from keras) (1.12.0)\n",
            "Requirement already satisfied: keras-applications>=1.0.8 in /usr/local/lib/python3.6/dist-packages (from keras) (1.0.8)\n",
            "Requirement already satisfied: scipy>=0.14 in /usr/local/lib/python3.6/dist-packages (from keras) (1.4.1)\n",
            "Requirement already satisfied: grpcio>=1.8.6 in /usr/local/lib/python3.6/dist-packages (from tensorflow) (1.27.2)\n",
            "Requirement already satisfied: astor>=0.6.0 in /usr/local/lib/python3.6/dist-packages (from tensorflow) (0.8.1)\n",
            "Requirement already satisfied: wrapt>=1.11.1 in /usr/local/lib/python3.6/dist-packages (from tensorflow) (1.12.1)\n",
            "Requirement already satisfied: absl-py>=0.7.0 in /usr/local/lib/python3.6/dist-packages (from tensorflow) (0.9.0)\n",
            "Requirement already satisfied: google-pasta>=0.1.6 in /usr/local/lib/python3.6/dist-packages (from tensorflow) (0.2.0)\n",
            "Requirement already satisfied: protobuf>=3.6.1 in /usr/local/lib/python3.6/dist-packages (from tensorflow) (3.10.0)\n",
            "Requirement already satisfied: tensorboard<1.16.0,>=1.15.0 in /tensorflow-1.15.2/python3.6 (from tensorflow) (1.15.0)\n",
            "Requirement already satisfied: tensorflow-estimator==1.15.1 in /tensorflow-1.15.2/python3.6 (from tensorflow) (1.15.1)\n",
            "Collecting gast==0.2.2\n",
            "  Downloading https://files.pythonhosted.org/packages/4e/35/11749bf99b2d4e3cceb4d55ca22590b0d7c2c62b9de38ac4a4a7f4687421/gast-0.2.2.tar.gz\n",
            "Requirement already satisfied: wheel>=0.26; python_version >= \"3\" in /usr/local/lib/python3.6/dist-packages (from tensorflow) (0.34.2)\n",
            "Requirement already satisfied: termcolor>=1.1.0 in /usr/local/lib/python3.6/dist-packages (from tensorflow) (1.1.0)\n",
            "Requirement already satisfied: opt-einsum>=2.3.2 in /usr/local/lib/python3.6/dist-packages (from tensorflow) (3.2.0)\n",
            "Requirement already satisfied: setuptools in /usr/local/lib/python3.6/dist-packages (from protobuf>=3.6.1->tensorflow) (46.0.0)\n",
            "Requirement already satisfied: markdown>=2.6.8 in /usr/local/lib/python3.6/dist-packages (from tensorboard<1.16.0,>=1.15.0->tensorflow) (3.2.1)\n",
            "Requirement already satisfied: werkzeug>=0.11.15 in /usr/local/lib/python3.6/dist-packages (from tensorboard<1.16.0,>=1.15.0->tensorflow) (1.0.0)\n",
            "Building wheels for collected packages: gast\n",
            "  Building wheel for gast (setup.py) ... \u001b[?25l\u001b[?25hdone\n",
            "  Created wheel for gast: filename=gast-0.2.2-cp36-none-any.whl size=7540 sha256=120f25ba8f9d41624e795c1fd10302807999fc21b6403169f896cecfdf9e4f5f\n",
            "  Stored in directory: /root/.cache/pip/wheels/5c/2e/7e/a1d4d4fcebe6c381f378ce7743a3ced3699feb89bcfbdadadd\n",
            "Successfully built gast\n",
            "Installing collected packages: mnist, gast\n",
            "  Found existing installation: gast 0.3.3\n",
            "    Uninstalling gast-0.3.3:\n",
            "      Successfully uninstalled gast-0.3.3\n",
            "Successfully installed gast-0.2.2 mnist-0.2.2\n"
          ],
          "name": "stdout"
        },
        {
          "output_type": "display_data",
          "data": {
            "application/vnd.colab-display-data+json": {
              "pip_warning": {
                "packages": [
                  "gast"
                ]
              }
            }
          },
          "metadata": {
            "tags": []
          }
        }
      ]
    },
    {
      "cell_type": "code",
      "metadata": {
        "id": "vk2Yk1NKM4nz",
        "colab_type": "code",
        "colab": {}
      },
      "source": [
        "import numpy as np\n",
        "import mnist\n",
        "from keras.models import Sequential\n",
        "from keras.layers import Dense,Dropout\n",
        "from keras.utils import to_categorical\n",
        "\n",
        "x_train = mnist.train_images()\n",
        "y_train = mnist.train_labels()\n",
        "x_test  = mnist.test_images()\n",
        "y_test  = mnist.test_labels()\n",
        "\n",
        "# Normalize the images.\n",
        "x_train = (x_train / 255)\n",
        "x_test  = (x_test / 255) \n",
        "\n",
        "\n"
      ],
      "execution_count": 0,
      "outputs": []
    },
    {
      "cell_type": "markdown",
      "metadata": {
        "id": "NMaOBM6wisWR",
        "colab_type": "text"
      },
      "source": [
        "# Shuffling the train data"
      ]
    },
    {
      "cell_type": "code",
      "metadata": {
        "id": "6Ey-AOHUeiV5",
        "colab_type": "code",
        "colab": {}
      },
      "source": [
        "indices = np.arange(x_train.shape[0])\n",
        "np.random.shuffle(indices)\n",
        "data_input = x_train[indices]\n",
        "labels = y_train[indices]\n",
        "\n",
        "sample_size = 60000-int(60000*0.01)\n",
        "x_train = data_input[:sample_size]\n",
        "y_train = labels[:sample_size]\n",
        "x_vali = data_input[sample_size:60000]\n",
        "y_vali = labels[sample_size: 60000]\n",
        "\n",
        "# Flatten the images.\n",
        "x_train = x_train.reshape((-1, 784))\n",
        "x_test  = x_test.reshape((-1, 784))\n",
        "x_vali  = x_vali.reshape((-1,784))"
      ],
      "execution_count": 0,
      "outputs": []
    },
    {
      "cell_type": "code",
      "metadata": {
        "id": "P_ZwZ5xmgu5T",
        "colab_type": "code",
        "colab": {}
      },
      "source": [
        "batch_size = 32\n",
        "num_classes = 10\n",
        "epochs = 1000"
      ],
      "execution_count": 0,
      "outputs": []
    },
    {
      "cell_type": "markdown",
      "metadata": {
        "id": "mcAFcqt5mUs2",
        "colab_type": "text"
      },
      "source": [
        "Implementing fully connected layers with 3 dense layers of 64 unit,32 units,10 units respectively with learning rate or lr of 0.0001 and iterations 1000 and early stopping to see no overfitting with l2 regularisation"
      ]
    },
    {
      "cell_type": "code",
      "metadata": {
        "id": "Jd9Bkngaea6L",
        "colab_type": "code",
        "outputId": "ac2c1a22-a913-45e7-c0bf-257108313328",
        "colab": {
          "base_uri": "https://localhost:8080/",
          "height": 1000
        }
      },
      "source": [
        "from keras import optimizers\n",
        "from keras.callbacks import EarlyStopping\n",
        "from keras import regularizers\n",
        "es = EarlyStopping(monitor='val_loss',min_delta=0,patience=2,verbose=0, mode='auto')\n",
        "\n",
        "\n",
        "# Build the model.\n",
        "model = Sequential([\n",
        "  Dense(64, activation='relu', input_shape=(784,)),\n",
        "  Dropout(0.5),\n",
        "  Dense(32, activation='relu',kernel_regularizer=regularizers.l2(0.01)),\n",
        "  Dropout(0.5),\n",
        "  Dense(10, activation='softmax'),\n",
        "])\n",
        "adamOpti = optimizers.Adam(lr = 0.0001)\n",
        "model.compile(optimizer= adamOpti,loss='categorical_crossentropy',metrics=['accuracy'])\n",
        "\n",
        "# simple early stopping\n",
        "from keras.callbacks import EarlyStopping\n",
        "es = EarlyStopping(monitor='val_loss',min_delta=0,patience=2,verbose=0, mode='auto')\n",
        "# Train the model.\n",
        "history= model.fit(x_train, to_categorical(y_train),batch_size = batch_size,epochs=epochs, verbose=1,validation_data=(x_vali, to_categorical(y_vali)),callbacks=[es])\n",
        "\n"
      ],
      "execution_count": 0,
      "outputs": [
        {
          "output_type": "stream",
          "text": [
            "Train on 59400 samples, validate on 600 samples\n",
            "Epoch 1/1000\n",
            "59400/59400 [==============================] - 8s 141us/step - loss: 2.0240 - acc: 0.4036 - val_loss: 1.1749 - val_acc: 0.8117\n",
            "Epoch 2/1000\n",
            "59400/59400 [==============================] - 8s 129us/step - loss: 1.2853 - acc: 0.6542 - val_loss: 0.7348 - val_acc: 0.8800\n",
            "Epoch 3/1000\n",
            "59400/59400 [==============================] - 8s 131us/step - loss: 1.0186 - acc: 0.7374 - val_loss: 0.5766 - val_acc: 0.9000\n",
            "Epoch 4/1000\n",
            "59400/59400 [==============================] - 8s 132us/step - loss: 0.8819 - acc: 0.7784 - val_loss: 0.4943 - val_acc: 0.9067\n",
            "Epoch 5/1000\n",
            "59400/59400 [==============================] - 8s 130us/step - loss: 0.8039 - acc: 0.8003 - val_loss: 0.4410 - val_acc: 0.9100\n",
            "Epoch 6/1000\n",
            "59400/59400 [==============================] - 8s 129us/step - loss: 0.7428 - acc: 0.8166 - val_loss: 0.3942 - val_acc: 0.9200\n",
            "Epoch 7/1000\n",
            "59400/59400 [==============================] - 8s 134us/step - loss: 0.6983 - acc: 0.8267 - val_loss: 0.3699 - val_acc: 0.9150\n",
            "Epoch 8/1000\n",
            "59400/59400 [==============================] - 8s 133us/step - loss: 0.6639 - acc: 0.8344 - val_loss: 0.3477 - val_acc: 0.9183\n",
            "Epoch 9/1000\n",
            "59400/59400 [==============================] - 7s 126us/step - loss: 0.6376 - acc: 0.8417 - val_loss: 0.3301 - val_acc: 0.9217\n",
            "Epoch 10/1000\n",
            "59400/59400 [==============================] - 8s 129us/step - loss: 0.6117 - acc: 0.8480 - val_loss: 0.3132 - val_acc: 0.9250\n",
            "Epoch 11/1000\n",
            "59400/59400 [==============================] - 7s 124us/step - loss: 0.5887 - acc: 0.8544 - val_loss: 0.2994 - val_acc: 0.9233\n",
            "Epoch 12/1000\n",
            "59400/59400 [==============================] - 8s 129us/step - loss: 0.5752 - acc: 0.8572 - val_loss: 0.2891 - val_acc: 0.9300\n",
            "Epoch 13/1000\n",
            "59400/59400 [==============================] - 8s 131us/step - loss: 0.5593 - acc: 0.8597 - val_loss: 0.2793 - val_acc: 0.9300\n",
            "Epoch 14/1000\n",
            "59400/59400 [==============================] - 8s 136us/step - loss: 0.5449 - acc: 0.8645 - val_loss: 0.2713 - val_acc: 0.9317\n",
            "Epoch 15/1000\n",
            "59400/59400 [==============================] - 8s 131us/step - loss: 0.5370 - acc: 0.8662 - val_loss: 0.2642 - val_acc: 0.9350\n",
            "Epoch 16/1000\n",
            "59400/59400 [==============================] - 8s 128us/step - loss: 0.5210 - acc: 0.8718 - val_loss: 0.2542 - val_acc: 0.9333\n",
            "Epoch 17/1000\n",
            "59400/59400 [==============================] - 8s 134us/step - loss: 0.5163 - acc: 0.8718 - val_loss: 0.2527 - val_acc: 0.9317\n",
            "Epoch 18/1000\n",
            "59400/59400 [==============================] - 7s 125us/step - loss: 0.5057 - acc: 0.8728 - val_loss: 0.2431 - val_acc: 0.9367\n",
            "Epoch 19/1000\n",
            "59400/59400 [==============================] - 8s 132us/step - loss: 0.5011 - acc: 0.8748 - val_loss: 0.2400 - val_acc: 0.9367\n",
            "Epoch 20/1000\n",
            "59400/59400 [==============================] - 8s 131us/step - loss: 0.4936 - acc: 0.8775 - val_loss: 0.2365 - val_acc: 0.9383\n",
            "Epoch 21/1000\n",
            "59400/59400 [==============================] - 8s 132us/step - loss: 0.4859 - acc: 0.8793 - val_loss: 0.2311 - val_acc: 0.9400\n",
            "Epoch 22/1000\n",
            "59400/59400 [==============================] - 8s 132us/step - loss: 0.4787 - acc: 0.8793 - val_loss: 0.2273 - val_acc: 0.9400\n",
            "Epoch 23/1000\n",
            "59400/59400 [==============================] - 8s 133us/step - loss: 0.4702 - acc: 0.8822 - val_loss: 0.2220 - val_acc: 0.9417\n",
            "Epoch 24/1000\n",
            "59400/59400 [==============================] - 8s 132us/step - loss: 0.4674 - acc: 0.8825 - val_loss: 0.2180 - val_acc: 0.9467\n",
            "Epoch 25/1000\n",
            "59400/59400 [==============================] - 8s 128us/step - loss: 0.4631 - acc: 0.8838 - val_loss: 0.2156 - val_acc: 0.9450\n",
            "Epoch 26/1000\n",
            "59400/59400 [==============================] - 8s 133us/step - loss: 0.4582 - acc: 0.8845 - val_loss: 0.2079 - val_acc: 0.9467\n",
            "Epoch 27/1000\n",
            "59400/59400 [==============================] - 8s 129us/step - loss: 0.4513 - acc: 0.8861 - val_loss: 0.2094 - val_acc: 0.9483\n",
            "Epoch 28/1000\n",
            "59400/59400 [==============================] - 8s 129us/step - loss: 0.4480 - acc: 0.8866 - val_loss: 0.2070 - val_acc: 0.9450\n",
            "Epoch 29/1000\n",
            "59400/59400 [==============================] - 8s 131us/step - loss: 0.4446 - acc: 0.8887 - val_loss: 0.2009 - val_acc: 0.9483\n",
            "Epoch 30/1000\n",
            "59400/59400 [==============================] - 8s 133us/step - loss: 0.4375 - acc: 0.8901 - val_loss: 0.2016 - val_acc: 0.9500\n",
            "Epoch 31/1000\n",
            "59400/59400 [==============================] - 8s 129us/step - loss: 0.4339 - acc: 0.8889 - val_loss: 0.1978 - val_acc: 0.9500\n",
            "Epoch 32/1000\n",
            "59400/59400 [==============================] - 7s 126us/step - loss: 0.4337 - acc: 0.8898 - val_loss: 0.1957 - val_acc: 0.9517\n",
            "Epoch 33/1000\n",
            "59400/59400 [==============================] - 8s 129us/step - loss: 0.4318 - acc: 0.8916 - val_loss: 0.1949 - val_acc: 0.9500\n",
            "Epoch 34/1000\n",
            "59400/59400 [==============================] - 8s 129us/step - loss: 0.4248 - acc: 0.8913 - val_loss: 0.1914 - val_acc: 0.9517\n",
            "Epoch 35/1000\n",
            "59400/59400 [==============================] - 8s 130us/step - loss: 0.4182 - acc: 0.8932 - val_loss: 0.1904 - val_acc: 0.9517\n",
            "Epoch 36/1000\n",
            "59400/59400 [==============================] - 8s 129us/step - loss: 0.4175 - acc: 0.8928 - val_loss: 0.1944 - val_acc: 0.9500\n",
            "Epoch 37/1000\n",
            "59400/59400 [==============================] - 8s 128us/step - loss: 0.4145 - acc: 0.8944 - val_loss: 0.1873 - val_acc: 0.9533\n",
            "Epoch 38/1000\n",
            "59400/59400 [==============================] - 8s 129us/step - loss: 0.4134 - acc: 0.8946 - val_loss: 0.1834 - val_acc: 0.9533\n",
            "Epoch 39/1000\n",
            "59400/59400 [==============================] - 8s 130us/step - loss: 0.4108 - acc: 0.8957 - val_loss: 0.1814 - val_acc: 0.9533\n",
            "Epoch 40/1000\n",
            "59400/59400 [==============================] - 8s 136us/step - loss: 0.4080 - acc: 0.8952 - val_loss: 0.1811 - val_acc: 0.9533\n",
            "Epoch 41/1000\n",
            "59400/59400 [==============================] - 8s 129us/step - loss: 0.4053 - acc: 0.8987 - val_loss: 0.1786 - val_acc: 0.9533\n",
            "Epoch 42/1000\n",
            "59400/59400 [==============================] - 7s 125us/step - loss: 0.4042 - acc: 0.8971 - val_loss: 0.1788 - val_acc: 0.9517\n",
            "Epoch 43/1000\n",
            "59400/59400 [==============================] - 8s 132us/step - loss: 0.3967 - acc: 0.8978 - val_loss: 0.1736 - val_acc: 0.9550\n",
            "Epoch 44/1000\n",
            "59400/59400 [==============================] - 8s 131us/step - loss: 0.3949 - acc: 0.8979 - val_loss: 0.1765 - val_acc: 0.9533\n",
            "Epoch 45/1000\n",
            "59400/59400 [==============================] - 8s 137us/step - loss: 0.3929 - acc: 0.8995 - val_loss: 0.1742 - val_acc: 0.9550\n"
          ],
          "name": "stdout"
        }
      ]
    },
    {
      "cell_type": "markdown",
      "metadata": {
        "id": "WdE1FCb5DU0e",
        "colab_type": "text"
      },
      "source": [
        ""
      ]
    },
    {
      "cell_type": "code",
      "metadata": {
        "id": "3xEQMjEUrHxq",
        "colab_type": "code",
        "colab": {}
      },
      "source": [
        "loss = history.history['loss']\n",
        "val_loss = history.history['val_loss']\n",
        "acc = history.history['acc']\n",
        "val_acc = history.history['val_acc']"
      ],
      "execution_count": 0,
      "outputs": []
    },
    {
      "cell_type": "code",
      "metadata": {
        "id": "R06zhv23rKSl",
        "colab_type": "code",
        "outputId": "f5cdc718-4122-4cec-90b1-d582ccb86529",
        "colab": {
          "base_uri": "https://localhost:8080/",
          "height": 313
        }
      },
      "source": [
        "epochs = range(1, len(loss)+1)\n",
        "\n",
        "plt.plot(epochs, loss, 'ko', label = 'Training Loss')\n",
        "plt.plot(epochs, val_loss, 'k', label = 'Validation Loss')\n",
        "plt.xlabel('Epochs')\n",
        "plt.ylabel('Loss')\n",
        "plt.title('Training and Validation Loss')\n",
        "plt.legend()"
      ],
      "execution_count": 0,
      "outputs": [
        {
          "output_type": "execute_result",
          "data": {
            "text/plain": [
              "<matplotlib.legend.Legend at 0x7fc7dfbb4e80>"
            ]
          },
          "metadata": {
            "tags": []
          },
          "execution_count": 34
        },
        {
          "output_type": "display_data",
          "data": {
            "image/png": "[encoded data removed]",
            "text/plain": [
              "<Figure size 432x288 with 1 Axes>"
            ]
          },
          "metadata": {
            "tags": []
          }
        }
      ]
    },
    {
      "cell_type": "code",
      "metadata": {
        "id": "jc5sPhwsrpwH",
        "colab_type": "code",
        "outputId": "8e65842e-2345-47b0-a103-300b272ced3f",
        "colab": {
          "base_uri": "https://localhost:8080/",
          "height": 313
        }
      },
      "source": [
        "plt.plot(epochs, acc, 'yo', label = 'Training Accuracy')\n",
        "plt.plot(epochs, val_acc, 'y', label = 'Validation Accuracy')\n",
        "plt.xlabel('Epochs')\n",
        "plt.ylabel('Accuracy')\n",
        "plt.title('Training and Validation Accuracy')\n",
        "plt.legend()"
      ],
      "execution_count": 0,
      "outputs": [
        {
          "output_type": "execute_result",
          "data": {
            "text/plain": [
              "<matplotlib.legend.Legend at 0x7fc7dfb9fcf8>"
            ]
          },
          "metadata": {
            "tags": []
          },
          "execution_count": 35
        },
        {
          "output_type": "display_data",
          "data": {
            "image/png": "[encoded data removed]",
            "text/plain": [
              "<Figure size 432x288 with 1 Axes>"
            ]
          },
          "metadata": {
            "tags": []
          }
        }
      ]
    },
    {
      "cell_type": "markdown",
      "metadata": {
        "id": "o-Fv09e-zYpu",
        "colab_type": "text"
      },
      "source": [
        "Now implementing the same with increased number of dense layers and different learning rate and adding l2 regularization"
      ]
    },
    {
      "cell_type": "markdown",
      "metadata": {
        "id": "9wgd6LezwIGY",
        "colab_type": "text"
      },
      "source": [
        "Increasing the number of dense layers and trying with different learning rate i.e 0.001\n",
        "\n",
        "4 hidden layers "
      ]
    },
    {
      "cell_type": "code",
      "metadata": {
        "id": "huou-fW6EK7a",
        "colab_type": "code",
        "colab": {}
      },
      "source": [
        "batch_size = 32\n",
        "num_classes = 10\n",
        "epochs = 1000"
      ],
      "execution_count": 0,
      "outputs": []
    },
    {
      "cell_type": "code",
      "metadata": {
        "id": "OVMwSUWSzpJX",
        "colab_type": "code",
        "outputId": "04b0ff3a-ba6b-4e5f-bb69-9dc8135a4d1b",
        "colab": {
          "base_uri": "https://localhost:8080/",
          "height": 1000
        }
      },
      "source": [
        "# Build the model.\n",
        "model = Sequential([\n",
        "  Dense(32, activation='relu', input_shape=(784,)),\n",
        "  Dropout(0.2),\n",
        "  Dense(64, activation='relu',kernel_regularizer=regularizers.l2(0.01)),\n",
        "  Dropout(0.2),\n",
        "  Dense(128, activation='relu',kernel_regularizer=regularizers.l2(0.01)),\n",
        "  Dropout(0.2),\n",
        "  Dense(10, activation='softmax'),\n",
        "])\n",
        "adamOpti = optimizers.Adam(lr = 0.0001)\n",
        "model.compile(optimizer= adamOpti,loss='categorical_crossentropy',metrics=['accuracy'])\n",
        "\n",
        "# simple early stopping\n",
        "from keras.callbacks import EarlyStopping\n",
        "es = EarlyStopping(monitor='val_loss',min_delta=0,patience=2,verbose=0, mode='auto')\n",
        "# Train the model.\n",
        "history= model.fit(x_train, to_categorical(y_train),batch_size = batch_size,epochs=epochs, verbose=1,validation_data=(x_vali, to_categorical(y_vali)),callbacks=[es])"
      ],
      "execution_count": 0,
      "outputs": [
        {
          "output_type": "stream",
          "text": [
            "Train on 59400 samples, validate on 600 samples\n",
            "Epoch 1/1000\n",
            "59400/59400 [==============================] - 9s 153us/step - loss: 1.9617 - acc: 0.6180 - val_loss: 1.0578 - val_acc: 0.8683\n",
            "Epoch 2/1000\n",
            "59400/59400 [==============================] - 9s 144us/step - loss: 1.0645 - acc: 0.8150 - val_loss: 0.7512 - val_acc: 0.8917\n",
            "Epoch 3/1000\n",
            "59400/59400 [==============================] - 9s 150us/step - loss: 0.8296 - acc: 0.8458 - val_loss: 0.5900 - val_acc: 0.9133\n",
            "Epoch 4/1000\n",
            "59400/59400 [==============================] - 9s 149us/step - loss: 0.7000 - acc: 0.8639 - val_loss: 0.5050 - val_acc: 0.9150\n",
            "Epoch 5/1000\n",
            "59400/59400 [==============================] - 9s 147us/step - loss: 0.6206 - acc: 0.8732 - val_loss: 0.4549 - val_acc: 0.9200\n",
            "Epoch 6/1000\n",
            "59400/59400 [==============================] - 9s 147us/step - loss: 0.5672 - acc: 0.8818 - val_loss: 0.4122 - val_acc: 0.9283\n",
            "Epoch 7/1000\n",
            "59400/59400 [==============================] - 8s 143us/step - loss: 0.5278 - acc: 0.8872 - val_loss: 0.3863 - val_acc: 0.9317\n",
            "Epoch 8/1000\n",
            "59400/59400 [==============================] - 8s 143us/step - loss: 0.4993 - acc: 0.8925 - val_loss: 0.3658 - val_acc: 0.9350\n",
            "Epoch 9/1000\n",
            "59400/59400 [==============================] - 9s 143us/step - loss: 0.4760 - acc: 0.8964 - val_loss: 0.3481 - val_acc: 0.9317\n",
            "Epoch 10/1000\n",
            "59400/59400 [==============================] - 8s 140us/step - loss: 0.4591 - acc: 0.9009 - val_loss: 0.3338 - val_acc: 0.9283\n",
            "Epoch 11/1000\n",
            "59400/59400 [==============================] - 9s 147us/step - loss: 0.4433 - acc: 0.9035 - val_loss: 0.3255 - val_acc: 0.9333\n",
            "Epoch 12/1000\n",
            "59400/59400 [==============================] - 9s 148us/step - loss: 0.4304 - acc: 0.9053 - val_loss: 0.3177 - val_acc: 0.9317\n",
            "Epoch 13/1000\n",
            "59400/59400 [==============================] - 9s 148us/step - loss: 0.4159 - acc: 0.9081 - val_loss: 0.3010 - val_acc: 0.9383\n",
            "Epoch 14/1000\n",
            "59400/59400 [==============================] - 9s 144us/step - loss: 0.4062 - acc: 0.9093 - val_loss: 0.2958 - val_acc: 0.9417\n",
            "Epoch 15/1000\n",
            "59400/59400 [==============================] - 9s 144us/step - loss: 0.3984 - acc: 0.9107 - val_loss: 0.2853 - val_acc: 0.9400\n",
            "Epoch 16/1000\n",
            "59400/59400 [==============================] - 9s 144us/step - loss: 0.3878 - acc: 0.9129 - val_loss: 0.2751 - val_acc: 0.9417\n",
            "Epoch 17/1000\n",
            "59400/59400 [==============================] - 8s 143us/step - loss: 0.3808 - acc: 0.9142 - val_loss: 0.2723 - val_acc: 0.9400\n",
            "Epoch 18/1000\n",
            "59400/59400 [==============================] - 8s 142us/step - loss: 0.3726 - acc: 0.9166 - val_loss: 0.2696 - val_acc: 0.9433\n",
            "Epoch 19/1000\n",
            "59400/59400 [==============================] - 9s 146us/step - loss: 0.3635 - acc: 0.9188 - val_loss: 0.2606 - val_acc: 0.9433\n",
            "Epoch 20/1000\n",
            "59400/59400 [==============================] - 9s 148us/step - loss: 0.3600 - acc: 0.9161 - val_loss: 0.2582 - val_acc: 0.9433\n",
            "Epoch 21/1000\n",
            "59400/59400 [==============================] - 9s 144us/step - loss: 0.3526 - acc: 0.9196 - val_loss: 0.2573 - val_acc: 0.9483\n",
            "Epoch 22/1000\n",
            "59400/59400 [==============================] - 9s 144us/step - loss: 0.3477 - acc: 0.9208 - val_loss: 0.2534 - val_acc: 0.9467\n",
            "Epoch 23/1000\n",
            "59400/59400 [==============================] - 9s 146us/step - loss: 0.3443 - acc: 0.9217 - val_loss: 0.2461 - val_acc: 0.9500\n",
            "Epoch 24/1000\n",
            "59400/59400 [==============================] - 9s 146us/step - loss: 0.3353 - acc: 0.9234 - val_loss: 0.2423 - val_acc: 0.9483\n",
            "Epoch 25/1000\n",
            "59400/59400 [==============================] - 9s 144us/step - loss: 0.3347 - acc: 0.9226 - val_loss: 0.2366 - val_acc: 0.9483\n",
            "Epoch 26/1000\n",
            "59400/59400 [==============================] - 8s 141us/step - loss: 0.3288 - acc: 0.9245 - val_loss: 0.2319 - val_acc: 0.9517\n",
            "Epoch 27/1000\n",
            "59400/59400 [==============================] - 9s 147us/step - loss: 0.3258 - acc: 0.9255 - val_loss: 0.2353 - val_acc: 0.9467\n",
            "Epoch 28/1000\n",
            "59400/59400 [==============================] - 8s 141us/step - loss: 0.3215 - acc: 0.9265 - val_loss: 0.2301 - val_acc: 0.9500\n",
            "Epoch 29/1000\n",
            "59400/59400 [==============================] - 9s 150us/step - loss: 0.3175 - acc: 0.9273 - val_loss: 0.2315 - val_acc: 0.9517\n",
            "Epoch 30/1000\n",
            "59400/59400 [==============================] - 9s 148us/step - loss: 0.3145 - acc: 0.9268 - val_loss: 0.2251 - val_acc: 0.9467\n",
            "Epoch 31/1000\n",
            "59400/59400 [==============================] - 9s 146us/step - loss: 0.3123 - acc: 0.9274 - val_loss: 0.2192 - val_acc: 0.9483\n",
            "Epoch 32/1000\n",
            "59400/59400 [==============================] - 9s 149us/step - loss: 0.3078 - acc: 0.9283 - val_loss: 0.2232 - val_acc: 0.9483\n",
            "Epoch 33/1000\n",
            "59400/59400 [==============================] - 8s 142us/step - loss: 0.3053 - acc: 0.9293 - val_loss: 0.2211 - val_acc: 0.9517\n"
          ],
          "name": "stdout"
        }
      ]
    },
    {
      "cell_type": "code",
      "metadata": {
        "id": "RvT8L44QXTTG",
        "colab_type": "code",
        "colab": {}
      },
      "source": [
        "loss = history.history['loss']\n",
        "val_loss = history.history['val_loss']\n",
        "acc = history.history['acc']\n",
        "val_acc = history.history['val_acc']"
      ],
      "execution_count": 0,
      "outputs": []
    },
    {
      "cell_type": "code",
      "metadata": {
        "id": "oOGLMIaEXac6",
        "colab_type": "code",
        "outputId": "4b47bfd4-9fba-4d5e-ad33-ac87d97aa364",
        "colab": {
          "base_uri": "https://localhost:8080/",
          "height": 313
        }
      },
      "source": [
        "epochs = range(1, len(loss)+1)\n",
        "\n",
        "plt.plot(epochs, loss, 'ko', label = 'Training Loss')\n",
        "plt.plot(epochs, val_loss, 'k', label = 'Validation Loss')\n",
        "plt.xlabel('Epochs')\n",
        "plt.ylabel('Loss')\n",
        "plt.title('Training and Validation Loss')\n",
        "plt.legend()"
      ],
      "execution_count": 0,
      "outputs": [
        {
          "output_type": "execute_result",
          "data": {
            "text/plain": [
              "<matplotlib.legend.Legend at 0x7fc7df919d30>"
            ]
          },
          "metadata": {
            "tags": []
          },
          "execution_count": 39
        },
        {
          "output_type": "display_data",
          "data": {
            "image/png": "[encoded data removed]",
            "text/plain": [
              "<Figure size 432x288 with 1 Axes>"
            ]
          },
          "metadata": {
            "tags": []
          }
        }
      ]
    },
    {
      "cell_type": "code",
      "metadata": {
        "id": "LgJZnlD1XnB2",
        "colab_type": "code",
        "outputId": "bc46b112-f0af-4a9f-eea8-51ca626cdfff",
        "colab": {
          "base_uri": "https://localhost:8080/",
          "height": 313
        }
      },
      "source": [
        "plt.plot(epochs, acc, 'yo', label = 'Training Accuracy')\n",
        "plt.plot(epochs, val_acc, 'y', label = 'Validation Accuracy')\n",
        "plt.xlabel('Epochs')\n",
        "plt.ylabel('Accuracy')\n",
        "plt.title('Training and Validation Accuracy')\n",
        "plt.legend()"
      ],
      "execution_count": 0,
      "outputs": [
        {
          "output_type": "execute_result",
          "data": {
            "text/plain": [
              "<matplotlib.legend.Legend at 0x7fc7df86fa90>"
            ]
          },
          "metadata": {
            "tags": []
          },
          "execution_count": 40
        },
        {
          "output_type": "display_data",
          "data": {
            "image/png": "[encoded data removed]",
            "text/plain": [
              "<Figure size 432x288 with 1 Axes>"
            ]
          },
          "metadata": {
            "tags": []
          }
        }
      ]
    },
    {
      "cell_type": "code",
      "metadata": {
        "id": "DQFATXsMem0k",
        "colab_type": "code",
        "outputId": "0573c424-598c-43fb-d945-a326857b9e5c",
        "colab": {
          "base_uri": "https://localhost:8080/",
          "height": 399
        }
      },
      "source": [
        "model.summary()"
      ],
      "execution_count": 0,
      "outputs": [
        {
          "output_type": "stream",
          "text": [
            "Model: \"sequential_4\"\n",
            "_________________________________________________________________\n",
            "Layer (type)                 Output Shape              Param #   \n",
            "=================================================================\n",
            "dense_11 (Dense)             (None, 32)                25120     \n",
            "_________________________________________________________________\n",
            "dropout_10 (Dropout)         (None, 32)                0         \n",
            "_________________________________________________________________\n",
            "dense_12 (Dense)             (None, 64)                2112      \n",
            "_________________________________________________________________\n",
            "dropout_11 (Dropout)         (None, 64)                0         \n",
            "_________________________________________________________________\n",
            "dense_13 (Dense)             (None, 128)               8320      \n",
            "_________________________________________________________________\n",
            "dropout_12 (Dropout)         (None, 128)               0         \n",
            "_________________________________________________________________\n",
            "dense_14 (Dense)             (None, 10)                1290      \n",
            "=================================================================\n",
            "Total params: 36,842\n",
            "Trainable params: 36,842\n",
            "Non-trainable params: 0\n",
            "_________________________________________________________________\n"
          ],
          "name": "stdout"
        }
      ]
    },
    {
      "cell_type": "code",
      "metadata": {
        "id": "-zFX6iB5jH6i",
        "colab_type": "code",
        "outputId": "d5515bd6-2b78-4f5a-a615-44a1d60bf17d",
        "colab": {
          "base_uri": "https://localhost:8080/",
          "height": 69
        }
      },
      "source": [
        "score = model.evaluate(x_test,to_categorical(y_test))\n",
        "print(\"Test Score Accuracy \")\n",
        "score[1]"
      ],
      "execution_count": 0,
      "outputs": [
        {
          "output_type": "stream",
          "text": [
            "10000/10000 [==============================] - 0s 48us/step\n",
            "Test Score Accuracy \n"
          ],
          "name": "stdout"
        },
        {
          "output_type": "execute_result",
          "data": {
            "text/plain": [
              "0.9536"
            ]
          },
          "metadata": {
            "tags": []
          },
          "execution_count": 42
        }
      ]
    },
    {
      "cell_type": "code",
      "metadata": {
        "id": "Dw6ab_wxjX4h",
        "colab_type": "code",
        "outputId": "c98f764e-88d1-4e8d-ea2a-cc6e14fddf6b",
        "colab": {
          "base_uri": "https://localhost:8080/",
          "height": 52
        }
      },
      "source": [
        "# Predict on the first 5 test images.\n",
        "predictions = model.predict(x_test[:5])\n",
        "\n",
        "# Print our model's predictions.\n",
        "print(np.argmax(predictions, axis=1)) # [7, 2, 1, 0, 4]\n",
        "\n",
        "# Check our predictions against the ground truths.\n",
        "print(y_test[:5]) # [7, 2, 1, 0, 4]"
      ],
      "execution_count": 0,
      "outputs": [
        {
          "output_type": "stream",
          "text": [
            "[7 2 1 0 4]\n",
            "[7 2 1 0 4]\n"
          ],
          "name": "stdout"
        }
      ]
    },
    {
      "cell_type": "markdown",
      "metadata": {
        "id": "XD_22woxdWZV",
        "colab_type": "text"
      },
      "source": [
        "Increasing the number of hidden layers increased the accuracy and the model trained well with increase in the layers and hidden units for lr = 0.0001 and l2 regularization"
      ]
    },
    {
      "cell_type": "markdown",
      "metadata": {
        "id": "wiBOGLjPAHHH",
        "colab_type": "text"
      },
      "source": [
        "# Comparison of two implementations"
      ]
    },
    {
      "cell_type": "markdown",
      "metadata": {
        "id": "Pwyfe6esAJFM",
        "colab_type": "text"
      },
      "source": [
        "Comparison between problems on home work 2 and home work 3  there is faster learning in Convolution networks on images than ANN this is what i understand because the model is showing high accuracy in less number of iterations or epochs in CNN,In ANN the iterations taken are more for learning.Both models in in comparison of accuracy are showing 90+ % with te implementation of keras "
      ]
    }
  ]
}