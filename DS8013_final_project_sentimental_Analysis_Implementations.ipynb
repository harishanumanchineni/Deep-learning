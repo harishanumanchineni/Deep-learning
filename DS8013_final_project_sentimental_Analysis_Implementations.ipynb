{
  "nbformat": 4,
  "nbformat_minor": 0,
  "metadata": {
    "colab": {
      "name": "DS8013_final_project_sentimental_Analysis_Implementation.ipynb",
      "provenance": [],
      "collapsed_sections": [],
      "machine_shape": "hm"
    },
    "kernelspec": {
      "name": "python3",
      "display_name": "Python 3"
    },
    "accelerator": "GPU"
  },
  "cells": [
    {
      "cell_type": "code",
      "metadata": {
        "id": "sSfm5d8NaEPh",
        "colab_type": "code",
        "colab": {}
      },
      "source": [
        "%tensorflow_version 1.x\n",
        "import tensorflow"
      ],
      "execution_count": 0,
      "outputs": []
    },
    {
      "cell_type": "code",
      "metadata": {
        "id": "pXSXUNUq8L3-",
        "colab_type": "code",
        "colab": {}
      },
      "source": [
        "import json\n",
        "import numpy as np\n",
        "import operator\n",
        "import os\n",
        "import pandas as pd\n",
        "import re"
      ],
      "execution_count": 0,
      "outputs": []
    },
    {
      "cell_type": "code",
      "metadata": {
        "id": "19rHHmos32M8",
        "colab_type": "code",
        "outputId": "35f4204d-0bc3-4c91-f8b6-8e43b3806c6c",
        "colab": {
          "base_uri": "https://localhost:8080/",
          "height": 35
        }
      },
      "source": [
        "from google.colab import drive\n",
        "drive.mount('/content/gdrive')"
      ],
      "execution_count": 0,
      "outputs": [
        {
          "output_type": "stream",
          "text": [
            "Mounted at /content/gdrive\n"
          ],
          "name": "stdout"
        }
      ]
    },
    {
      "cell_type": "code",
      "metadata": {
        "id": "wM6-Rd4H9eh0",
        "colab_type": "code",
        "outputId": "75e8e503-43c4-4930-ae5e-0aa74577c085",
        "colab": {
          "base_uri": "https://localhost:8080/",
          "height": 35
        }
      },
      "source": [
        "drive.mount('/content/drive', force_remount= True)\n",
        "os.chdir('/content/drive/Shared drives/DS8013')"
      ],
      "execution_count": 0,
      "outputs": [
        {
          "output_type": "stream",
          "text": [
            "Mounted at /content/drive\n"
          ],
          "name": "stdout"
        }
      ]
    },
    {
      "cell_type": "code",
      "metadata": {
        "id": "r9nkk3SD96s_",
        "colab_type": "code",
        "colab": {}
      },
      "source": [
        "filename = 'yelp_merged.csv'"
      ],
      "execution_count": 0,
      "outputs": []
    },
    {
      "cell_type": "code",
      "metadata": {
        "id": "L7j_5u6qG45M",
        "colab_type": "code",
        "colab": {}
      },
      "source": [
        "chunk_size = 1000000\n",
        "\n",
        "# upload csv in chunks into dataframe\n",
        "yelp_csv = pd.read_csv(filename, chunksize= chunk_size, index_col= 0)"
      ],
      "execution_count": 0,
      "outputs": []
    },
    {
      "cell_type": "code",
      "metadata": {
        "id": "hLeXz2viDXpr",
        "colab_type": "code",
        "outputId": "649c5b5d-0a2b-4004-b096-dde293685edf",
        "colab": {
          "base_uri": "https://localhost:8080/",
          "height": 176
        }
      },
      "source": [
        "# create list to store chunks\n",
        "dataset = []\n",
        "\n",
        "for review in yelp_csv:\n",
        "    # drop columns that aren't needed\n",
        "    review = review.drop(['RestaurantsTableService_True.1'], axis=1)\n",
        "    # show feedback on progress\n",
        "    print(f'{review.shape[0]} out of {chunk_size:,} related reviews')\n",
        "    dataset.append(review)\n",
        "\n",
        "# merge chunks into single dataframe\n",
        "yelp_review = pd.concat(dataset, ignore_index = True, join = 'outer', axis = 0)\n",
        "print ('num records : {}'.format(len(yelp_review)))"
      ],
      "execution_count": 0,
      "outputs": [
        {
          "output_type": "stream",
          "text": [
            "1000000 out of 1,000,000 related reviews\n",
            "1000000 out of 1,000,000 related reviews\n",
            "1000000 out of 1,000,000 related reviews\n",
            "1000000 out of 1,000,000 related reviews\n"
          ],
          "name": "stdout"
        },
        {
          "output_type": "stream",
          "text": [
            "/usr/local/lib/python3.6/dist-packages/IPython/core/interactiveshell.py:2718: DtypeWarning: Columns (0,3) have mixed types.Specify dtype option on import or set low_memory=False.\n",
            "  interactivity=interactivity, compiler=compiler, result=result)\n"
          ],
          "name": "stderr"
        },
        {
          "output_type": "stream",
          "text": [
            "472431 out of 1,000,000 related reviews\n",
            "num records : 4472431\n"
          ],
          "name": "stdout"
        }
      ]
    },
    {
      "cell_type": "code",
      "metadata": {
        "id": "qWD3UaiYMHMa",
        "colab_type": "code",
        "outputId": "0b76a6f8-c8a7-484a-b6dc-7597b1a60d88",
        "colab": {
          "base_uri": "https://localhost:8080/",
          "height": 581
        }
      },
      "source": [
        "yelp_review.head()"
      ],
      "execution_count": 0,
      "outputs": [
        {
          "output_type": "execute_result",
          "data": {
            "text/html": [
              "<div>\n",
              "<style scoped>\n",
              "    .dataframe tbody tr th:only-of-type {\n",
              "        vertical-align: middle;\n",
              "    }\n",
              "\n",
              "    .dataframe tbody tr th {\n",
              "        vertical-align: top;\n",
              "    }\n",
              "\n",
              "    .dataframe thead th {\n",
              "        text-align: right;\n",
              "    }\n",
              "</style>\n",
              "<table border=\"1\" class=\"dataframe\">\n",
              "  <thead>\n",
              "    <tr style=\"text-align: right;\">\n",
              "      <th></th>\n",
              "      <th>user_id</th>\n",
              "      <th>business_id</th>\n",
              "      <th>review_stars</th>\n",
              "      <th>text</th>\n",
              "      <th>date</th>\n",
              "      <th>city</th>\n",
              "      <th>state</th>\n",
              "      <th>business_stars</th>\n",
              "      <th>business_review_count</th>\n",
              "      <th>is_open</th>\n",
              "      <th>AgesAllowed_None</th>\n",
              "      <th>AgesAllowed_18plus</th>\n",
              "      <th>AgesAllowed_19plus</th>\n",
              "      <th>AgesAllowed_21plus</th>\n",
              "      <th>AgesAllowed_allages</th>\n",
              "      <th>Alcohol_beer_and_wine</th>\n",
              "      <th>Alcohol_full_bar</th>\n",
              "      <th>Alcohol_none</th>\n",
              "      <th>BestNights_monday</th>\n",
              "      <th>BestNights_tuesday</th>\n",
              "      <th>BestNights_friday</th>\n",
              "      <th>BestNights_wednesday</th>\n",
              "      <th>BestNights_thursday</th>\n",
              "      <th>BestNights_sunday</th>\n",
              "      <th>BestNights_saturday</th>\n",
              "      <th>BestNights_None</th>\n",
              "      <th>BikeParking_True</th>\n",
              "      <th>BusinessAcceptsBitcoin_True</th>\n",
              "      <th>BusinessAcceptsCreditCards_True</th>\n",
              "      <th>BusinessParking_garage</th>\n",
              "      <th>BusinessParking_street</th>\n",
              "      <th>BusinessParking_validated</th>\n",
              "      <th>BusinessParking_lot</th>\n",
              "      <th>BusinessParking_valet</th>\n",
              "      <th>BusinessParking_None</th>\n",
              "      <th>ByAppointmentOnly_True</th>\n",
              "      <th>BYOB_True</th>\n",
              "      <th>BYOBCorkage_None</th>\n",
              "      <th>BYOBCorkage_no</th>\n",
              "      <th>BYOBCorkage_yes_corkage</th>\n",
              "      <th>...</th>\n",
              "      <th>Music_None</th>\n",
              "      <th>Music_background_music</th>\n",
              "      <th>Music_dj</th>\n",
              "      <th>Music_jukebox</th>\n",
              "      <th>Music_karaoke</th>\n",
              "      <th>Music_live</th>\n",
              "      <th>Music_no_music</th>\n",
              "      <th>Music_video</th>\n",
              "      <th>NoiseLevel_None</th>\n",
              "      <th>NoiseLevel_average</th>\n",
              "      <th>NoiseLevel_loud</th>\n",
              "      <th>NoiseLevel_quiet</th>\n",
              "      <th>NoiseLevel_very_loud</th>\n",
              "      <th>Open24Hours_True</th>\n",
              "      <th>Open24Hours_True.1</th>\n",
              "      <th>OutdoorSeating_True</th>\n",
              "      <th>RestaurantsAttire_None</th>\n",
              "      <th>RestaurantsAttire_casual</th>\n",
              "      <th>RestaurantsAttire_dressy</th>\n",
              "      <th>RestaurantsAttire_formal</th>\n",
              "      <th>RestaurantsCounterService_True</th>\n",
              "      <th>RestaurantsGoodForGroups_True</th>\n",
              "      <th>RestaurantsPriceRange2_1</th>\n",
              "      <th>RestaurantsPriceRange2_2</th>\n",
              "      <th>RestaurantsPriceRange2_3</th>\n",
              "      <th>RestaurantsPriceRange2_4</th>\n",
              "      <th>RestaurantsPriceRange2_None</th>\n",
              "      <th>RestaurantsTableService_True</th>\n",
              "      <th>RestaurantsTakeOut_True</th>\n",
              "      <th>Smoking_None</th>\n",
              "      <th>Smoking_no</th>\n",
              "      <th>Smoking_outdoor</th>\n",
              "      <th>Smoking_yes</th>\n",
              "      <th>WheelchairAccessible_True</th>\n",
              "      <th>WiFi_None</th>\n",
              "      <th>WiFi_free</th>\n",
              "      <th>WiFi_no</th>\n",
              "      <th>WiFi_paid</th>\n",
              "      <th>user_review_count</th>\n",
              "      <th>useful_votes</th>\n",
              "    </tr>\n",
              "  </thead>\n",
              "  <tbody>\n",
              "    <tr>\n",
              "      <th>0</th>\n",
              "      <td>dacAIZ6fTM6mqwW5uxkskg</td>\n",
              "      <td>ikCg8xy5JIg_NGPx-MSIDA</td>\n",
              "      <td>5</td>\n",
              "      <td>Went in for a lunch. Steak sandwich was delici...</td>\n",
              "      <td>2018-01-09 20:56:38</td>\n",
              "      <td>Calgary</td>\n",
              "      <td>AB</td>\n",
              "      <td>3.0</td>\n",
              "      <td>13.0</td>\n",
              "      <td>1.0</td>\n",
              "      <td>0.0</td>\n",
              "      <td>0.0</td>\n",
              "      <td>0.0</td>\n",
              "      <td>0.0</td>\n",
              "      <td>0.0</td>\n",
              "      <td>0.0</td>\n",
              "      <td>0.0</td>\n",
              "      <td>0.0</td>\n",
              "      <td>0.0</td>\n",
              "      <td>0.0</td>\n",
              "      <td>0.0</td>\n",
              "      <td>0.0</td>\n",
              "      <td>0.0</td>\n",
              "      <td>0.0</td>\n",
              "      <td>0.0</td>\n",
              "      <td>1.0</td>\n",
              "      <td>1.0</td>\n",
              "      <td>0.0</td>\n",
              "      <td>0.0</td>\n",
              "      <td>0.0</td>\n",
              "      <td>0.0</td>\n",
              "      <td>0.0</td>\n",
              "      <td>0.0</td>\n",
              "      <td>0.0</td>\n",
              "      <td>1.0</td>\n",
              "      <td>0.0</td>\n",
              "      <td>0.0</td>\n",
              "      <td>0.0</td>\n",
              "      <td>0.0</td>\n",
              "      <td>0.0</td>\n",
              "      <td>...</td>\n",
              "      <td>1.0</td>\n",
              "      <td>0.0</td>\n",
              "      <td>0.0</td>\n",
              "      <td>0.0</td>\n",
              "      <td>0.0</td>\n",
              "      <td>0.0</td>\n",
              "      <td>0.0</td>\n",
              "      <td>0.0</td>\n",
              "      <td>0.0</td>\n",
              "      <td>0.0</td>\n",
              "      <td>0.0</td>\n",
              "      <td>0.0</td>\n",
              "      <td>0.0</td>\n",
              "      <td>0.0</td>\n",
              "      <td>0.0</td>\n",
              "      <td>0.0</td>\n",
              "      <td>0.0</td>\n",
              "      <td>0.0</td>\n",
              "      <td>0.0</td>\n",
              "      <td>0.0</td>\n",
              "      <td>0.0</td>\n",
              "      <td>1.0</td>\n",
              "      <td>0.0</td>\n",
              "      <td>1.0</td>\n",
              "      <td>0.0</td>\n",
              "      <td>0.0</td>\n",
              "      <td>0.0</td>\n",
              "      <td>0.0</td>\n",
              "      <td>0.0</td>\n",
              "      <td>0.0</td>\n",
              "      <td>0.0</td>\n",
              "      <td>0.0</td>\n",
              "      <td>0.0</td>\n",
              "      <td>0.0</td>\n",
              "      <td>0.0</td>\n",
              "      <td>0.0</td>\n",
              "      <td>0.0</td>\n",
              "      <td>0.0</td>\n",
              "      <td>4.0</td>\n",
              "      <td>2.0</td>\n",
              "    </tr>\n",
              "    <tr>\n",
              "      <th>1</th>\n",
              "      <td>dacAIZ6fTM6mqwW5uxkskg</td>\n",
              "      <td>EUKmcJ2nV6AvJPCxJyVeIw</td>\n",
              "      <td>5</td>\n",
              "      <td>Stopped by for a quick breakfast and had the m...</td>\n",
              "      <td>2017-12-09 23:43:19</td>\n",
              "      <td>Calgary</td>\n",
              "      <td>AB</td>\n",
              "      <td>4.0</td>\n",
              "      <td>8.0</td>\n",
              "      <td>1.0</td>\n",
              "      <td>0.0</td>\n",
              "      <td>0.0</td>\n",
              "      <td>0.0</td>\n",
              "      <td>0.0</td>\n",
              "      <td>0.0</td>\n",
              "      <td>0.0</td>\n",
              "      <td>0.0</td>\n",
              "      <td>0.0</td>\n",
              "      <td>0.0</td>\n",
              "      <td>0.0</td>\n",
              "      <td>0.0</td>\n",
              "      <td>0.0</td>\n",
              "      <td>0.0</td>\n",
              "      <td>0.0</td>\n",
              "      <td>0.0</td>\n",
              "      <td>1.0</td>\n",
              "      <td>1.0</td>\n",
              "      <td>0.0</td>\n",
              "      <td>0.0</td>\n",
              "      <td>0.0</td>\n",
              "      <td>0.0</td>\n",
              "      <td>0.0</td>\n",
              "      <td>0.0</td>\n",
              "      <td>0.0</td>\n",
              "      <td>1.0</td>\n",
              "      <td>0.0</td>\n",
              "      <td>0.0</td>\n",
              "      <td>0.0</td>\n",
              "      <td>0.0</td>\n",
              "      <td>0.0</td>\n",
              "      <td>...</td>\n",
              "      <td>1.0</td>\n",
              "      <td>0.0</td>\n",
              "      <td>0.0</td>\n",
              "      <td>0.0</td>\n",
              "      <td>0.0</td>\n",
              "      <td>0.0</td>\n",
              "      <td>0.0</td>\n",
              "      <td>0.0</td>\n",
              "      <td>0.0</td>\n",
              "      <td>0.0</td>\n",
              "      <td>0.0</td>\n",
              "      <td>0.0</td>\n",
              "      <td>0.0</td>\n",
              "      <td>0.0</td>\n",
              "      <td>0.0</td>\n",
              "      <td>0.0</td>\n",
              "      <td>0.0</td>\n",
              "      <td>0.0</td>\n",
              "      <td>0.0</td>\n",
              "      <td>0.0</td>\n",
              "      <td>0.0</td>\n",
              "      <td>1.0</td>\n",
              "      <td>0.0</td>\n",
              "      <td>1.0</td>\n",
              "      <td>0.0</td>\n",
              "      <td>0.0</td>\n",
              "      <td>0.0</td>\n",
              "      <td>1.0</td>\n",
              "      <td>1.0</td>\n",
              "      <td>0.0</td>\n",
              "      <td>0.0</td>\n",
              "      <td>0.0</td>\n",
              "      <td>0.0</td>\n",
              "      <td>0.0</td>\n",
              "      <td>0.0</td>\n",
              "      <td>0.0</td>\n",
              "      <td>0.0</td>\n",
              "      <td>0.0</td>\n",
              "      <td>4.0</td>\n",
              "      <td>2.0</td>\n",
              "    </tr>\n",
              "    <tr>\n",
              "      <th>2</th>\n",
              "      <td>eKyshoiTpZVF1_U4B9CHEg</td>\n",
              "      <td>ikCg8xy5JIg_NGPx-MSIDA</td>\n",
              "      <td>1</td>\n",
              "      <td>Really one of dirtiest places to eat,not sure ...</td>\n",
              "      <td>2015-09-09 22:10:49</td>\n",
              "      <td>Calgary</td>\n",
              "      <td>AB</td>\n",
              "      <td>3.0</td>\n",
              "      <td>13.0</td>\n",
              "      <td>1.0</td>\n",
              "      <td>0.0</td>\n",
              "      <td>0.0</td>\n",
              "      <td>0.0</td>\n",
              "      <td>0.0</td>\n",
              "      <td>0.0</td>\n",
              "      <td>0.0</td>\n",
              "      <td>0.0</td>\n",
              "      <td>0.0</td>\n",
              "      <td>0.0</td>\n",
              "      <td>0.0</td>\n",
              "      <td>0.0</td>\n",
              "      <td>0.0</td>\n",
              "      <td>0.0</td>\n",
              "      <td>0.0</td>\n",
              "      <td>0.0</td>\n",
              "      <td>1.0</td>\n",
              "      <td>1.0</td>\n",
              "      <td>0.0</td>\n",
              "      <td>0.0</td>\n",
              "      <td>0.0</td>\n",
              "      <td>0.0</td>\n",
              "      <td>0.0</td>\n",
              "      <td>0.0</td>\n",
              "      <td>0.0</td>\n",
              "      <td>1.0</td>\n",
              "      <td>0.0</td>\n",
              "      <td>0.0</td>\n",
              "      <td>0.0</td>\n",
              "      <td>0.0</td>\n",
              "      <td>0.0</td>\n",
              "      <td>...</td>\n",
              "      <td>1.0</td>\n",
              "      <td>0.0</td>\n",
              "      <td>0.0</td>\n",
              "      <td>0.0</td>\n",
              "      <td>0.0</td>\n",
              "      <td>0.0</td>\n",
              "      <td>0.0</td>\n",
              "      <td>0.0</td>\n",
              "      <td>0.0</td>\n",
              "      <td>0.0</td>\n",
              "      <td>0.0</td>\n",
              "      <td>0.0</td>\n",
              "      <td>0.0</td>\n",
              "      <td>0.0</td>\n",
              "      <td>0.0</td>\n",
              "      <td>0.0</td>\n",
              "      <td>0.0</td>\n",
              "      <td>0.0</td>\n",
              "      <td>0.0</td>\n",
              "      <td>0.0</td>\n",
              "      <td>0.0</td>\n",
              "      <td>1.0</td>\n",
              "      <td>0.0</td>\n",
              "      <td>1.0</td>\n",
              "      <td>0.0</td>\n",
              "      <td>0.0</td>\n",
              "      <td>0.0</td>\n",
              "      <td>0.0</td>\n",
              "      <td>0.0</td>\n",
              "      <td>0.0</td>\n",
              "      <td>0.0</td>\n",
              "      <td>0.0</td>\n",
              "      <td>0.0</td>\n",
              "      <td>0.0</td>\n",
              "      <td>0.0</td>\n",
              "      <td>0.0</td>\n",
              "      <td>0.0</td>\n",
              "      <td>0.0</td>\n",
              "      <td>9.0</td>\n",
              "      <td>6.0</td>\n",
              "    </tr>\n",
              "    <tr>\n",
              "      <th>3</th>\n",
              "      <td>eKyshoiTpZVF1_U4B9CHEg</td>\n",
              "      <td>ikCg8xy5JIg_NGPx-MSIDA</td>\n",
              "      <td>1</td>\n",
              "      <td>Terrible place to eat and or drink, waitresses...</td>\n",
              "      <td>2014-05-28 00:22:08</td>\n",
              "      <td>Calgary</td>\n",
              "      <td>AB</td>\n",
              "      <td>3.0</td>\n",
              "      <td>13.0</td>\n",
              "      <td>1.0</td>\n",
              "      <td>0.0</td>\n",
              "      <td>0.0</td>\n",
              "      <td>0.0</td>\n",
              "      <td>0.0</td>\n",
              "      <td>0.0</td>\n",
              "      <td>0.0</td>\n",
              "      <td>0.0</td>\n",
              "      <td>0.0</td>\n",
              "      <td>0.0</td>\n",
              "      <td>0.0</td>\n",
              "      <td>0.0</td>\n",
              "      <td>0.0</td>\n",
              "      <td>0.0</td>\n",
              "      <td>0.0</td>\n",
              "      <td>0.0</td>\n",
              "      <td>1.0</td>\n",
              "      <td>1.0</td>\n",
              "      <td>0.0</td>\n",
              "      <td>0.0</td>\n",
              "      <td>0.0</td>\n",
              "      <td>0.0</td>\n",
              "      <td>0.0</td>\n",
              "      <td>0.0</td>\n",
              "      <td>0.0</td>\n",
              "      <td>1.0</td>\n",
              "      <td>0.0</td>\n",
              "      <td>0.0</td>\n",
              "      <td>0.0</td>\n",
              "      <td>0.0</td>\n",
              "      <td>0.0</td>\n",
              "      <td>...</td>\n",
              "      <td>1.0</td>\n",
              "      <td>0.0</td>\n",
              "      <td>0.0</td>\n",
              "      <td>0.0</td>\n",
              "      <td>0.0</td>\n",
              "      <td>0.0</td>\n",
              "      <td>0.0</td>\n",
              "      <td>0.0</td>\n",
              "      <td>0.0</td>\n",
              "      <td>0.0</td>\n",
              "      <td>0.0</td>\n",
              "      <td>0.0</td>\n",
              "      <td>0.0</td>\n",
              "      <td>0.0</td>\n",
              "      <td>0.0</td>\n",
              "      <td>0.0</td>\n",
              "      <td>0.0</td>\n",
              "      <td>0.0</td>\n",
              "      <td>0.0</td>\n",
              "      <td>0.0</td>\n",
              "      <td>0.0</td>\n",
              "      <td>1.0</td>\n",
              "      <td>0.0</td>\n",
              "      <td>1.0</td>\n",
              "      <td>0.0</td>\n",
              "      <td>0.0</td>\n",
              "      <td>0.0</td>\n",
              "      <td>0.0</td>\n",
              "      <td>0.0</td>\n",
              "      <td>0.0</td>\n",
              "      <td>0.0</td>\n",
              "      <td>0.0</td>\n",
              "      <td>0.0</td>\n",
              "      <td>0.0</td>\n",
              "      <td>0.0</td>\n",
              "      <td>0.0</td>\n",
              "      <td>0.0</td>\n",
              "      <td>0.0</td>\n",
              "      <td>9.0</td>\n",
              "      <td>6.0</td>\n",
              "    </tr>\n",
              "    <tr>\n",
              "      <th>4</th>\n",
              "      <td>eKyshoiTpZVF1_U4B9CHEg</td>\n",
              "      <td>ikCg8xy5JIg_NGPx-MSIDA</td>\n",
              "      <td>1</td>\n",
              "      <td>Really one of dirtiest places to eat,not sure ...</td>\n",
              "      <td>2016-06-08 16:31:08</td>\n",
              "      <td>Calgary</td>\n",
              "      <td>AB</td>\n",
              "      <td>3.0</td>\n",
              "      <td>13.0</td>\n",
              "      <td>1.0</td>\n",
              "      <td>0.0</td>\n",
              "      <td>0.0</td>\n",
              "      <td>0.0</td>\n",
              "      <td>0.0</td>\n",
              "      <td>0.0</td>\n",
              "      <td>0.0</td>\n",
              "      <td>0.0</td>\n",
              "      <td>0.0</td>\n",
              "      <td>0.0</td>\n",
              "      <td>0.0</td>\n",
              "      <td>0.0</td>\n",
              "      <td>0.0</td>\n",
              "      <td>0.0</td>\n",
              "      <td>0.0</td>\n",
              "      <td>0.0</td>\n",
              "      <td>1.0</td>\n",
              "      <td>1.0</td>\n",
              "      <td>0.0</td>\n",
              "      <td>0.0</td>\n",
              "      <td>0.0</td>\n",
              "      <td>0.0</td>\n",
              "      <td>0.0</td>\n",
              "      <td>0.0</td>\n",
              "      <td>0.0</td>\n",
              "      <td>1.0</td>\n",
              "      <td>0.0</td>\n",
              "      <td>0.0</td>\n",
              "      <td>0.0</td>\n",
              "      <td>0.0</td>\n",
              "      <td>0.0</td>\n",
              "      <td>...</td>\n",
              "      <td>1.0</td>\n",
              "      <td>0.0</td>\n",
              "      <td>0.0</td>\n",
              "      <td>0.0</td>\n",
              "      <td>0.0</td>\n",
              "      <td>0.0</td>\n",
              "      <td>0.0</td>\n",
              "      <td>0.0</td>\n",
              "      <td>0.0</td>\n",
              "      <td>0.0</td>\n",
              "      <td>0.0</td>\n",
              "      <td>0.0</td>\n",
              "      <td>0.0</td>\n",
              "      <td>0.0</td>\n",
              "      <td>0.0</td>\n",
              "      <td>0.0</td>\n",
              "      <td>0.0</td>\n",
              "      <td>0.0</td>\n",
              "      <td>0.0</td>\n",
              "      <td>0.0</td>\n",
              "      <td>0.0</td>\n",
              "      <td>1.0</td>\n",
              "      <td>0.0</td>\n",
              "      <td>1.0</td>\n",
              "      <td>0.0</td>\n",
              "      <td>0.0</td>\n",
              "      <td>0.0</td>\n",
              "      <td>0.0</td>\n",
              "      <td>0.0</td>\n",
              "      <td>0.0</td>\n",
              "      <td>0.0</td>\n",
              "      <td>0.0</td>\n",
              "      <td>0.0</td>\n",
              "      <td>0.0</td>\n",
              "      <td>0.0</td>\n",
              "      <td>0.0</td>\n",
              "      <td>0.0</td>\n",
              "      <td>0.0</td>\n",
              "      <td>9.0</td>\n",
              "      <td>6.0</td>\n",
              "    </tr>\n",
              "  </tbody>\n",
              "</table>\n",
              "<p>5 rows × 105 columns</p>\n",
              "</div>"
            ],
            "text/plain": [
              "                  user_id  ... useful_votes\n",
              "0  dacAIZ6fTM6mqwW5uxkskg  ...          2.0\n",
              "1  dacAIZ6fTM6mqwW5uxkskg  ...          2.0\n",
              "2  eKyshoiTpZVF1_U4B9CHEg  ...          6.0\n",
              "3  eKyshoiTpZVF1_U4B9CHEg  ...          6.0\n",
              "4  eKyshoiTpZVF1_U4B9CHEg  ...          6.0\n",
              "\n",
              "[5 rows x 105 columns]"
            ]
          },
          "metadata": {
            "tags": []
          },
          "execution_count": 12
        }
      ]
    },
    {
      "cell_type": "code",
      "metadata": {
        "id": "A9aMy8pwYPTd",
        "colab_type": "code",
        "outputId": "8ca5a727-b7c3-4668-f0a1-c97a0c50bafc",
        "colab": {
          "base_uri": "https://localhost:8080/",
          "height": 1000
        }
      },
      "source": [
        "# check to see that data loaded correctly\n",
        "excl = ['user_id', 'business_id', 'text', 'date', 'city', 'state']\n",
        "\n",
        "print ('unique values within columns')\n",
        "for (columnName, columnData) in yelp_review.iteritems():\n",
        "  if columnName not in excl:\n",
        "    print ('{} : {}'.format(columnName, columnData.unique()))"
      ],
      "execution_count": 0,
      "outputs": [
        {
          "output_type": "stream",
          "text": [
            "unique values within columns\n",
            "review_stars : [5 1 2 4 3 '5' '1' '4' '2' '3' 'NV']\n",
            "business_stars : [3.  4.  2.5 3.5 2.  4.5 1.5 5.  1.  nan 0. ]\n",
            "business_review_count : [ 13.   8.   5. ... 915.  nan   0.]\n",
            "is_open : [ 1.  0. nan]\n",
            "AgesAllowed_None : [ 0.  1. nan]\n",
            "AgesAllowed_18plus : [ 0.  1. nan]\n",
            "AgesAllowed_19plus : [ 0.  1. nan]\n",
            "AgesAllowed_21plus : [ 0.  1. nan]\n",
            "AgesAllowed_allages : [ 0.  1. nan]\n",
            "Alcohol_beer_and_wine : [ 0. nan]\n",
            "Alcohol_full_bar : [ 0. nan]\n",
            "Alcohol_none : [ 0. nan]\n",
            "BestNights_monday : [ 0.  1. nan]\n",
            "BestNights_tuesday : [ 0.  1. nan]\n",
            "BestNights_friday : [ 0.  1. nan]\n",
            "BestNights_wednesday : [ 0.  1. nan]\n",
            "BestNights_thursday : [ 0.  1. nan]\n",
            "BestNights_sunday : [ 0.  1. nan]\n",
            "BestNights_saturday : [ 0.  1. nan]\n",
            "BestNights_None : [ 1.  0. nan]\n",
            "BikeParking_True : [ 1.  0. nan]\n",
            "BusinessAcceptsBitcoin_True : [ 0.  1. nan]\n",
            "BusinessAcceptsCreditCards_True : [ 0.  1. nan]\n",
            "BusinessParking_garage : [ 0.  1. nan]\n",
            "BusinessParking_street : [ 0.  1. nan]\n",
            "BusinessParking_validated : [ 0.  1. nan]\n",
            "BusinessParking_lot : [ 0.  1. nan]\n",
            "BusinessParking_valet : [ 0.  1. nan]\n",
            "BusinessParking_None : [ 1.  0. nan]\n",
            "ByAppointmentOnly_True : [ 0.  1. nan]\n",
            "BYOB_True : [ 0.  1. nan]\n",
            "BYOBCorkage_None : [ 0.  1. nan]\n",
            "BYOBCorkage_no : [ 0. nan]\n",
            "BYOBCorkage_yes_corkage : [ 0. nan]\n",
            "BYOBCorkage_yes_free : [ 0. nan  1.]\n",
            "Caters_True : [ 0.  1. nan]\n",
            "CoatCheck_True : [ 0.  1. nan]\n",
            "Corkage_True : [ 0.  1. nan]\n",
            "DietaryRestrictions_None : [ 1.  0. nan]\n",
            "DietaryRestrictions_dairy_free : [ 0.  1. nan]\n",
            "DietaryRestrictions_gluten_free : [ 0.  1. nan]\n",
            "DietaryRestrictions_halal : [ 0.  1. nan]\n",
            "DietaryRestrictions_kosher : [ 0. nan]\n",
            "DietaryRestrictions_soy_free : [ 0.  1. nan]\n",
            "DietaryRestrictions_vegan : [ 0.  1. nan]\n",
            "DietaryRestrictions_vegetarian : [ 0.  1. nan]\n",
            "DogsAllowed_True : [ 0.  1. nan]\n",
            "DriveThru_True : [ 0.  1. nan]\n",
            "GoodForDancing_True : [ 0.  1. nan]\n",
            "GoodForKids_True : [ 0.  1. nan]\n",
            "GoodForMeal_None : [ 1.  0. nan]\n",
            "GoodForMeal_breakfast : [ 0.  1. nan]\n",
            "GoodForMeal_brunch : [ 0.  1. nan]\n",
            "GoodForMeal_dessert : [ 0.  1. nan]\n",
            "GoodForMeal_dinner : [ 0.  1. nan]\n",
            "GoodForMeal_latenight : [ 0.  1. nan]\n",
            "GoodForMeal_lunch : [ 0.  1. nan]\n",
            "HappyHour_True : [ 0.  1. nan]\n",
            "HasTV_True : [ 1.  0. nan]\n",
            "Music_None : [ 1.  0. nan]\n",
            "Music_background_music : [ 0.  1. nan]\n",
            "Music_dj : [ 0.  1. nan]\n",
            "Music_jukebox : [ 0.  1. nan]\n",
            "Music_karaoke : [ 0.  1. nan]\n",
            "Music_live : [ 0.  1. nan]\n",
            "Music_no_music : [ 0. nan]\n",
            "Music_video : [ 0.  1. nan]\n",
            "NoiseLevel_None : [ 0.  1. nan]\n",
            "NoiseLevel_average : [ 0. nan]\n",
            "NoiseLevel_loud : [ 0. nan]\n",
            "NoiseLevel_quiet : [ 0. nan  1.]\n",
            "NoiseLevel_very_loud : [ 0. nan]\n",
            "Open24Hours_True : [ 0.  1. nan]\n",
            "Open24Hours_True.1 : [ 0.  1. nan]\n",
            "OutdoorSeating_True : [ 0.  1. nan]\n",
            "RestaurantsAttire_None : [ 0.  1. nan]\n",
            "RestaurantsAttire_casual : [ 0. nan  1.]\n",
            "RestaurantsAttire_dressy : [ 0. nan]\n",
            "RestaurantsAttire_formal : [ 0. nan  1.]\n",
            "RestaurantsCounterService_True : [ 0.  1. nan]\n",
            "RestaurantsGoodForGroups_True : [ 1.  0. nan]\n",
            "RestaurantsPriceRange2_1 : [ 0.  1. nan]\n",
            "RestaurantsPriceRange2_2 : [ 1.  0. nan]\n",
            "RestaurantsPriceRange2_3 : [ 0.  1. nan]\n",
            "RestaurantsPriceRange2_4 : [ 0.  1. nan]\n",
            "RestaurantsPriceRange2_None : [ 0.  1. nan]\n",
            "RestaurantsTableService_True : [ 0.  1. nan]\n",
            "RestaurantsTakeOut_True : [ 0.  1. nan]\n",
            "Smoking_None : [ 0.  1. nan]\n",
            "Smoking_no : [ 0. nan]\n",
            "Smoking_outdoor : [ 0. nan]\n",
            "Smoking_yes : [ 0. nan]\n",
            "WheelchairAccessible_True : [ 0.  1. nan]\n",
            "WiFi_None : [ 0.  1. nan 17.]\n",
            "WiFi_free : [ 0. nan  6.]\n",
            "WiFi_no : [ 0. nan]\n",
            "WiFi_paid : [ 0. nan]\n",
            "user_review_count : [   4.    9.   20. ... 1518. 2156. 1294.]\n",
            "useful_votes : [2.000e+00 6.000e+00 9.200e+01 ... 6.792e+03 8.979e+03 5.786e+03]\n"
          ],
          "name": "stdout"
        }
      ]
    },
    {
      "cell_type": "code",
      "metadata": {
        "id": "uVlmm_rmaHup",
        "colab_type": "code",
        "colab": {}
      },
      "source": [
        "# remove record with where review stars = 'NV'\n",
        "yelp_review = yelp_review[yelp_review['review_stars'] != 'NV']"
      ],
      "execution_count": 0,
      "outputs": []
    },
    {
      "cell_type": "code",
      "metadata": {
        "id": "d4n1WJ4WdFoY",
        "colab_type": "code",
        "colab": {}
      },
      "source": [
        "# convert columns to int\n",
        "yelp_review['review_stars'] = yelp_review['review_stars'].astype(int)"
      ],
      "execution_count": 0,
      "outputs": []
    },
    {
      "cell_type": "code",
      "metadata": {
        "id": "qoPEi2cQeXE_",
        "colab_type": "code",
        "colab": {}
      },
      "source": [
        "# given that logistic regression is a binary classification (i.e. positive/negative), create positive_rating_column\n",
        "yelp_review['positive_rating'] = np.where(yelp_review['review_stars'] > 3, 1, 0)\n",
        "#yelp_review['negative_rating'] "
      ],
      "execution_count": 0,
      "outputs": []
    },
    {
      "cell_type": "markdown",
      "metadata": {
        "id": "i_j3laXvPShq",
        "colab_type": "text"
      },
      "source": [
        "####**exploratory data analysis**"
      ]
    },
    {
      "cell_type": "code",
      "metadata": {
        "id": "L3TqizlGPXi1",
        "colab_type": "code",
        "outputId": "41ae39fe-9bf6-40cf-afe5-f6221b6dd7a7",
        "colab": {
          "base_uri": "https://localhost:8080/",
          "height": 52
        }
      },
      "source": [
        "print ('no. of unique users : {}'.format(len(yelp_review['user_id'].unique())))\n",
        "print ('no. of unique restaurants : {}'.format(len(yelp_review['business_id'].unique())))"
      ],
      "execution_count": 0,
      "outputs": [
        {
          "output_type": "stream",
          "text": [
            "no. of unique users : 1179034\n",
            "no. of unique restaurants : 70180\n"
          ],
          "name": "stdout"
        }
      ]
    },
    {
      "cell_type": "code",
      "metadata": {
        "id": "SxhNPL7accLL",
        "colab_type": "code",
        "colab": {}
      },
      "source": [
        "import matplotlib.pyplot as plt\n",
        "\n",
        "plt.style.use('ggplot')"
      ],
      "execution_count": 0,
      "outputs": []
    },
    {
      "cell_type": "code",
      "metadata": {
        "id": "eAcQx9EcclVl",
        "colab_type": "code",
        "outputId": "df979b8e-1347-4c45-e070-d59beb801478",
        "colab": {
          "base_uri": "https://localhost:8080/",
          "height": 345
        }
      },
      "source": [
        "plt.hist(yelp_review['review_stars'])"
      ],
      "execution_count": 0,
      "outputs": [
        {
          "output_type": "execute_result",
          "data": {
            "text/plain": [
              "(array([ 530617.,       0.,  411891.,       0.,       0.,  590956.,\n",
              "              0., 1164095.,       0., 1774871.]),\n",
              " array([1. , 1.4, 1.8, 2.2, 2.6, 3. , 3.4, 3.8, 4.2, 4.6, 5. ]),\n",
              " <a list of 10 Patch objects>)"
            ]
          },
          "metadata": {
            "tags": []
          },
          "execution_count": 19
        },
        {
          "output_type": "display_data",
          "data": {
            "image/png": "[encoded data removed]",
            "text/plain": [
              "<Figure size 432x288 with 1 Axes>"
            ]
          },
          "metadata": {
            "tags": []
          }
        }
      ]
    },
    {
      "cell_type": "code",
      "metadata": {
        "id": "HkhF3EEldzFI",
        "colab_type": "code",
        "outputId": "74165d85-ed7a-45cd-869e-ebc6fc5158d7",
        "colab": {
          "base_uri": "https://localhost:8080/",
          "height": 345
        }
      },
      "source": [
        "plt.hist(yelp_review['positive_rating'])"
      ],
      "execution_count": 0,
      "outputs": [
        {
          "output_type": "execute_result",
          "data": {
            "text/plain": [
              "(array([1533464.,       0.,       0.,       0.,       0.,       0.,\n",
              "              0.,       0.,       0., 2938966.]),\n",
              " array([0. , 0.1, 0.2, 0.3, 0.4, 0.5, 0.6, 0.7, 0.8, 0.9, 1. ]),\n",
              " <a list of 10 Patch objects>)"
            ]
          },
          "metadata": {
            "tags": []
          },
          "execution_count": 20
        },
        {
          "output_type": "display_data",
          "data": {
            "image/png": "[encoded data removed]",
            "text/plain": [
              "<Figure size 432x288 with 1 Axes>"
            ]
          },
          "metadata": {
            "tags": []
          }
        }
      ]
    },
    {
      "cell_type": "code",
      "metadata": {
        "id": "I1npXY8VfoGg",
        "colab_type": "code",
        "colab": {}
      },
      "source": [
        "# no. of user ratings by user\n",
        "user_ratings = yelp_review['user_id'].value_counts()"
      ],
      "execution_count": 0,
      "outputs": []
    },
    {
      "cell_type": "markdown",
      "metadata": {
        "id": "8mcj2oCHEmXt",
        "colab_type": "text"
      },
      "source": [
        ""
      ]
    },
    {
      "cell_type": "code",
      "metadata": {
        "id": "p0GUrffRf3Hf",
        "colab_type": "code",
        "outputId": "84f663ed-6071-47e4-81e7-0f33dbb6fc15",
        "colab": {
          "base_uri": "https://localhost:8080/",
          "height": 173
        }
      },
      "source": [
        "user_ratings.describe()"
      ],
      "execution_count": 0,
      "outputs": [
        {
          "output_type": "execute_result",
          "data": {
            "text/plain": [
              "count    1.179034e+06\n",
              "mean     3.793300e+00\n",
              "std      1.260833e+01\n",
              "min      1.000000e+00\n",
              "25%      1.000000e+00\n",
              "50%      1.000000e+00\n",
              "75%      3.000000e+00\n",
              "max      3.153000e+03\n",
              "Name: user_id, dtype: float64"
            ]
          },
          "metadata": {
            "tags": []
          },
          "execution_count": 22
        }
      ]
    },
    {
      "cell_type": "code",
      "metadata": {
        "id": "6RvjPPFKgzpC",
        "colab_type": "code",
        "outputId": "f9c4cfeb-23d8-4a83-e080-78def48cdfab",
        "colab": {
          "base_uri": "https://localhost:8080/",
          "height": 156
        }
      },
      "source": [
        "# the large majority of users are infrequent reviewers\n",
        "# lets investigate heavy users...\n",
        "percentile = [0.8, 0.85, 0.90, 0.95, 0.96, 0.97, 0.98, 0.99]\n",
        "\n",
        "for i in percentile:\n",
        "  print ('{}th percentile : {} reviews, {} out of {} users'.format(int(i*100), user_ratings.quantile(i), int(i * len(user_ratings)), len(user_ratings)))"
      ],
      "execution_count": 0,
      "outputs": [
        {
          "output_type": "stream",
          "text": [
            "80th percentile : 4.0 reviews, 943227 out of 1179034 users\n",
            "85th percentile : 5.0 reviews, 1002178 out of 1179034 users\n",
            "90th percentile : 7.0 reviews, 1061130 out of 1179034 users\n",
            "95th percentile : 12.0 reviews, 1120082 out of 1179034 users\n",
            "96th percentile : 14.0 reviews, 1131872 out of 1179034 users\n",
            "97th percentile : 18.0 reviews, 1143662 out of 1179034 users\n",
            "98th percentile : 24.0 reviews, 1155453 out of 1179034 users\n",
            "99th percentile : 40.0 reviews, 1167243 out of 1179034 users\n"
          ],
          "name": "stdout"
        }
      ]
    },
    {
      "cell_type": "markdown",
      "metadata": {
        "id": "o9QVp_EiL-Xb",
        "colab_type": "text"
      },
      "source": [
        "####**pre-processing**"
      ]
    },
    {
      "cell_type": "markdown",
      "metadata": {
        "id": "l73jgrYnMubI",
        "colab_type": "text"
      },
      "source": [
        "pre-processing list\n",
        "* convert  all capital  letters  to  lowercase in  order  to  reduce  redundancy\n",
        "* Remove  stop  words  (common  words  in  English,  but with  no sentiment information) from  the  text  reviews using   Porter corpus   of   stop   words   from   Natural Language Toolkit(NLTK).\n",
        "> * https://www.researchgate.net/profile/Andreea_Salinca/publication/300415236_Business_Reviews_Classification_Using_Sentiment_Analysis/links/5718b4be08ae986b8b79f962/Business-Reviews-Classification-Using-Sentiment-Analysis.pdf\n",
        "\n",
        "\n",
        "\n",
        "\n"
      ]
    },
    {
      "cell_type": "code",
      "metadata": {
        "id": "4I05Km0ws361",
        "colab_type": "code",
        "outputId": "b4b8c66b-e0ac-42a6-d95b-1447af3ac177",
        "colab": {
          "base_uri": "https://localhost:8080/",
          "height": 69
        }
      },
      "source": [
        "#importing the libraries required\n",
        "import nltk\n",
        "nltk.download('stopwords')"
      ],
      "execution_count": 0,
      "outputs": [
        {
          "output_type": "stream",
          "text": [
            "[nltk_data] Downloading package stopwords to /root/nltk_data...\n",
            "[nltk_data]   Package stopwords is already up-to-date!\n"
          ],
          "name": "stdout"
        },
        {
          "output_type": "execute_result",
          "data": {
            "text/plain": [
              "True"
            ]
          },
          "metadata": {
            "tags": []
          },
          "execution_count": 24
        }
      ]
    },
    {
      "cell_type": "code",
      "metadata": {
        "id": "6ZYAL-fVMQrn",
        "colab_type": "code",
        "colab": {}
      },
      "source": [
        "#importing required libraries\n",
        "from bs4 import BeautifulSoup\n",
        "import string\n",
        "import re\n",
        "from nltk.tokenize import RegexpTokenizer\n",
        "from nltk.corpus import stopwords\n",
        "from nltk.stem import WordNetLemmatizer"
      ],
      "execution_count": 0,
      "outputs": []
    },
    {
      "cell_type": "code",
      "metadata": {
        "id": "3DT8kB0ISSlJ",
        "colab_type": "code",
        "colab": {}
      },
      "source": [
        "#remove html content\n",
        "def remove_html(text):\n",
        "    soup = BeautifulSoup(text,'lxml')\n",
        "    hmtl_free = soup.get_text()\n",
        "    return hmtl_free"
      ],
      "execution_count": 0,
      "outputs": []
    },
    {
      "cell_type": "code",
      "metadata": {
        "id": "YxxA1_vdTPGk",
        "colab_type": "code",
        "colab": {}
      },
      "source": [
        "#removing any punctuations\n",
        "def remove_punctuation(text):\n",
        "    no_punct = \"\".join([c for c in text if c not in string.punctuation])\n",
        "    return no_punct"
      ],
      "execution_count": 0,
      "outputs": []
    },
    {
      "cell_type": "code",
      "metadata": {
        "id": "hGQ73Ve5WM-6",
        "colab_type": "code",
        "colab": {}
      },
      "source": [
        "#stripping the new lines \\n\n",
        "def strip_(text):\n",
        "    text = re.sub(\"[!@#$%^&*()[]{};:,./<>?\\|`~-=_+]\", \" \", text)\n",
        "    text = text.replace(\"\\n\",\"\")\n",
        "    return text.strip()"
      ],
      "execution_count": 0,
      "outputs": []
    },
    {
      "cell_type": "code",
      "metadata": {
        "id": "1gsjAiW8abKk",
        "colab_type": "code",
        "colab": {}
      },
      "source": [
        "#tokenizing the text\n",
        "def tokenize_(text):\n",
        "    tokenizer = RegexpTokenizer(r'\\w+')\n",
        "    return tokenizer.tokenize(text)\n"
      ],
      "execution_count": 0,
      "outputs": []
    },
    {
      "cell_type": "code",
      "metadata": {
        "id": "yge5ncqIbspD",
        "colab_type": "code",
        "colab": {}
      },
      "source": [
        "#removing stop words\n",
        "def remove_stopwords(text):\n",
        "    words = [w for w in text if w not in stopwords.words('english')]\n",
        "    return words\n"
      ],
      "execution_count": 0,
      "outputs": []
    },
    {
      "cell_type": "code",
      "metadata": {
        "id": "Uhub6TctdpS5",
        "colab_type": "code",
        "colab": {}
      },
      "source": [
        "#lemmattzing the text\n",
        "def word_lemmatizer(text):\n",
        "    lemmatizer = WordNetLemmatizer()\n",
        "    lem_text = [lemmatizer.lemmatize(i) for i in text]\n",
        "    return lem_text"
      ],
      "execution_count": 0,
      "outputs": []
    },
    {
      "cell_type": "code",
      "metadata": {
        "id": "gub6bT78BB3z",
        "colab_type": "code",
        "colab": {}
      },
      "source": [
        "def clean_text(df):\n",
        "    '''\n",
        "    Take in a Dataframe, and process it\n",
        "    '''\n",
        "    df[\"cleaned_text\"] = df.text.map(lambda text:text.lower()).map(remove_html).map(remove_punctuation).map(strip_).map(tokenize_).map(remove_stopwords)\n",
        "    return df\n"
      ],
      "execution_count": 0,
      "outputs": []
    },
    {
      "cell_type": "code",
      "metadata": {
        "id": "7L2DF4I-LkDQ",
        "colab_type": "code",
        "colab": {}
      },
      "source": [
        "yelp_review.columns\n",
        "\n",
        "yelp_review_subset = yelp_review[['text', 'review_stars']]\n"
      ],
      "execution_count": 0,
      "outputs": []
    },
    {
      "cell_type": "code",
      "metadata": {
        "id": "CJEArGOAMoJf",
        "colab_type": "code",
        "outputId": "c8307044-1eac-43e7-ac25-b0073a75de50",
        "colab": {
          "base_uri": "https://localhost:8080/",
          "height": 121
        }
      },
      "source": [
        "yelp_review_subset['sentiment'] = ['pos' if (x>3) else 'neg' for x in yelp_review_subset['review_stars']]"
      ],
      "execution_count": 0,
      "outputs": [
        {
          "output_type": "stream",
          "text": [
            "/usr/local/lib/python3.6/dist-packages/ipykernel_launcher.py:1: SettingWithCopyWarning: \n",
            "A value is trying to be set on a copy of a slice from a DataFrame.\n",
            "Try using .loc[row_indexer,col_indexer] = value instead\n",
            "\n",
            "See the caveats in the documentation: https://pandas.pydata.org/pandas-docs/stable/user_guide/indexing.html#returning-a-view-versus-a-copy\n",
            "  \"\"\"Entry point for launching an IPython kernel.\n"
          ],
          "name": "stderr"
        }
      ]
    },
    {
      "cell_type": "code",
      "metadata": {
        "id": "BvCb0q36M9zb",
        "colab_type": "code",
        "colab": {}
      },
      "source": [
        "yelp_review_pos = yelp_review_subset.loc[yelp_review_subset['sentiment'] == 'pos']\n",
        "yelp_review_neg = yelp_review_subset.loc[yelp_review_subset['sentiment'] == 'neg']\n",
        "\n"
      ],
      "execution_count": 0,
      "outputs": []
    },
    {
      "cell_type": "code",
      "metadata": {
        "id": "ipO18IQlOHSg",
        "colab_type": "code",
        "colab": {}
      },
      "source": [
        "#balance data set\n",
        "frames = [yelp_review_pos[0:25000], yelp_review_neg[0:25000]]\n",
        "df = pd.concat(frames)\n",
        "from sklearn.utils import shuffle\n",
        "df = shuffle(df)\n",
        "\n"
      ],
      "execution_count": 0,
      "outputs": []
    },
    {
      "cell_type": "code",
      "metadata": {
        "id": "4WNSZDxp0Hrf",
        "colab_type": "code",
        "outputId": "2f0072d3-1d10-4ae9-e67c-7e74bd8c858c",
        "colab": {
          "base_uri": "https://localhost:8080/",
          "height": 35
        }
      },
      "source": [
        "len(df)"
      ],
      "execution_count": 0,
      "outputs": [
        {
          "output_type": "execute_result",
          "data": {
            "text/plain": [
              "50000"
            ]
          },
          "metadata": {
            "tags": []
          },
          "execution_count": 37
        }
      ]
    },
    {
      "cell_type": "code",
      "metadata": {
        "id": "Cdd0MqBlFSxu",
        "colab_type": "code",
        "outputId": "9c0afffa-2e9c-4e7c-9cc5-6d4f4b9c5433",
        "colab": {
          "base_uri": "https://localhost:8080/",
          "height": 35
        }
      },
      "source": [
        "import time\n",
        "t0 = time.time()\n",
        "import multiprocessing as mp\n",
        "cores = mp.cpu_count()\n",
        "partitions = 4\n",
        "pool = mp.Pool(processes = cores)\n",
        "data_split = np.array_split(df, partitions)\n",
        "data = pd.concat(pool.map(clean_text, data_split))\n",
        "pool.close()\n",
        "pool.join()\n",
        "t1 = time.time()\n",
        "print(\"Time to process with parallel processing {}\".format(t1-t0))"
      ],
      "execution_count": 0,
      "outputs": [
        {
          "output_type": "stream",
          "text": [
            "Time to process with parallel processing 482.5151686668396\n"
          ],
          "name": "stdout"
        }
      ]
    },
    {
      "cell_type": "code",
      "metadata": {
        "id": "Vfo3N5kpMbhQ",
        "colab_type": "code",
        "colab": {}
      },
      "source": [
        "y = df['sentiment']\n",
        "\n"
      ],
      "execution_count": 0,
      "outputs": []
    },
    {
      "cell_type": "markdown",
      "metadata": {
        "id": "x5gXaSRMXpRk",
        "colab_type": "text"
      },
      "source": [
        "# SVM implementation "
      ]
    },
    {
      "cell_type": "code",
      "metadata": {
        "id": "XcDJjnk-SPMM",
        "colab_type": "code",
        "colab": {}
      },
      "source": [
        "from sklearn.feature_extraction.text import TfidfVectorizer\n",
        "from sklearn.svm import LinearSVC\n",
        "from sklearn.model_selection import train_test_split"
      ],
      "execution_count": 0,
      "outputs": []
    },
    {
      "cell_type": "code",
      "metadata": {
        "id": "amHNVZcMSRHQ",
        "colab_type": "code",
        "outputId": "bdac629e-14c8-4bb9-ba01-688d8c720d35",
        "colab": {
          "base_uri": "https://localhost:8080/",
          "height": 35
        }
      },
      "source": [
        "vectorizer = TfidfVectorizer()\n",
        "vectors = vectorizer.fit_transform(data['text'])\n",
        "print(vectors.shape)\n",
        "X = vectors"
      ],
      "execution_count": 0,
      "outputs": [
        {
          "output_type": "stream",
          "text": [
            "(50000, 62515)\n"
          ],
          "name": "stdout"
        }
      ]
    },
    {
      "cell_type": "code",
      "metadata": {
        "id": "WV_J95eUSisu",
        "colab_type": "code",
        "colab": {}
      },
      "source": [
        "X_train, X_test, y_train, y_test = train_test_split(X,y, test_size=0.2, random_state=1337)"
      ],
      "execution_count": 0,
      "outputs": []
    },
    {
      "cell_type": "code",
      "metadata": {
        "id": "ssSPMIkwS9_4",
        "colab_type": "code",
        "outputId": "05789e12-7991-4d85-d289-0d726c30a8e8",
        "colab": {
          "base_uri": "https://localhost:8080/",
          "height": 87
        }
      },
      "source": [
        "svm = LinearSVC()\n",
        "svm.fit(X_train, y_train)"
      ],
      "execution_count": 0,
      "outputs": [
        {
          "output_type": "execute_result",
          "data": {
            "text/plain": [
              "LinearSVC(C=1.0, class_weight=None, dual=True, fit_intercept=True,\n",
              "          intercept_scaling=1, loss='squared_hinge', max_iter=1000,\n",
              "          multi_class='ovr', penalty='l2', random_state=None, tol=0.0001,\n",
              "          verbose=0)"
            ]
          },
          "metadata": {
            "tags": []
          },
          "execution_count": 43
        }
      ]
    },
    {
      "cell_type": "code",
      "metadata": {
        "id": "TjW871l2TC-o",
        "colab_type": "code",
        "colab": {}
      },
      "source": [
        "predictions = svm.predict(X_test)"
      ],
      "execution_count": 0,
      "outputs": []
    },
    {
      "cell_type": "code",
      "metadata": {
        "id": "-sDb6wykTJJX",
        "colab_type": "code",
        "outputId": "fa1b6cc5-6783-46e8-e115-891e5cebce61",
        "colab": {
          "base_uri": "https://localhost:8080/",
          "height": 35
        }
      },
      "source": [
        "from sklearn.metrics import accuracy_score\n",
        "print(\"The accuracy with Support vector machines  \"+ str(accuracy_score(y_test, predictions)))"
      ],
      "execution_count": 0,
      "outputs": [
        {
          "output_type": "stream",
          "text": [
            "The accuracy with Support vector machines  0.8139\n"
          ],
          "name": "stdout"
        }
      ]
    },
    {
      "cell_type": "markdown",
      "metadata": {
        "id": "IWUcEXgIyYze",
        "colab_type": "text"
      },
      "source": [
        ""
      ]
    },
    {
      "cell_type": "markdown",
      "metadata": {
        "id": "lLtcf9hfyefb",
        "colab_type": "text"
      },
      "source": [
        "# Logistic regression"
      ]
    },
    {
      "cell_type": "code",
      "metadata": {
        "id": "Iob-wkcbyeEq",
        "colab_type": "code",
        "outputId": "fc729121-387d-4a25-fc1d-9bbff7bc006c",
        "colab": {
          "base_uri": "https://localhost:8080/",
          "height": 243
        }
      },
      "source": [
        "from sklearn.linear_model import LogisticRegression\n",
        "logreg = LogisticRegression()\n",
        "logreg.fit(X_train,y_train)"
      ],
      "execution_count": 0,
      "outputs": [
        {
          "output_type": "stream",
          "text": [
            "/usr/local/lib/python3.6/dist-packages/sklearn/linear_model/_logistic.py:940: ConvergenceWarning: lbfgs failed to converge (status=1):\n",
            "STOP: TOTAL NO. of ITERATIONS REACHED LIMIT.\n",
            "\n",
            "Increase the number of iterations (max_iter) or scale the data as shown in:\n",
            "    https://scikit-learn.org/stable/modules/preprocessing.html\n",
            "Please also refer to the documentation for alternative solver options:\n",
            "    https://scikit-learn.org/stable/modules/linear_model.html#logistic-regression\n",
            "  extra_warning_msg=_LOGISTIC_SOLVER_CONVERGENCE_MSG)\n"
          ],
          "name": "stderr"
        },
        {
          "output_type": "execute_result",
          "data": {
            "text/plain": [
              "LogisticRegression(C=1.0, class_weight=None, dual=False, fit_intercept=True,\n",
              "                   intercept_scaling=1, l1_ratio=None, max_iter=100,\n",
              "                   multi_class='auto', n_jobs=None, penalty='l2',\n",
              "                   random_state=None, solver='lbfgs', tol=0.0001, verbose=0,\n",
              "                   warm_start=False)"
            ]
          },
          "metadata": {
            "tags": []
          },
          "execution_count": 46
        }
      ]
    },
    {
      "cell_type": "code",
      "metadata": {
        "id": "cZTcwM_lyYJF",
        "colab_type": "code",
        "colab": {}
      },
      "source": [
        "predictions = logreg.predict(X_test)"
      ],
      "execution_count": 0,
      "outputs": []
    },
    {
      "cell_type": "code",
      "metadata": {
        "id": "lyTSdfDzzI9r",
        "colab_type": "code",
        "outputId": "98e2aea9-ad50-4392-993f-7df0e9e993a4",
        "colab": {
          "base_uri": "https://localhost:8080/",
          "height": 35
        }
      },
      "source": [
        "print(\"The accuracy with Logistic Regression \"+str(accuracy_score(y_test, predictions)))"
      ],
      "execution_count": 0,
      "outputs": [
        {
          "output_type": "stream",
          "text": [
            "The accuracy with Logistic Regression 0.8199\n"
          ],
          "name": "stdout"
        }
      ]
    },
    {
      "cell_type": "markdown",
      "metadata": {
        "id": "tMjDp580ba6M",
        "colab_type": "text"
      },
      "source": [
        ""
      ]
    },
    {
      "cell_type": "markdown",
      "metadata": {
        "id": "rtM4_X3AeNEk",
        "colab_type": "text"
      },
      "source": [
        "# LSTM (KERAS) RNN"
      ]
    },
    {
      "cell_type": "code",
      "metadata": {
        "id": "wrTFElHVIkC3",
        "colab_type": "code",
        "colab": {}
      },
      "source": [
        "%tensorflow_version 1.x\n",
        "import tensorflow"
      ],
      "execution_count": 0,
      "outputs": []
    },
    {
      "cell_type": "code",
      "metadata": {
        "id": "n3Q78WTdnt6Y",
        "colab_type": "code",
        "outputId": "e0e0f083-8793-410c-c7e2-dcbd6fbe8d46",
        "colab": {
          "base_uri": "https://localhost:8080/",
          "height": 35
        }
      },
      "source": [
        "from sklearn.feature_extraction.text import CountVectorizer\n",
        "from keras.preprocessing.text import Tokenizer\n",
        "from keras.preprocessing.sequence import pad_sequences\n",
        "from keras.models import Sequential\n",
        "from keras.layers import Dense, Embedding,CuDNNLSTM\n",
        "from sklearn.model_selection import train_test_split\n",
        "from keras.utils.np_utils import to_categorical\n",
        "import re"
      ],
      "execution_count": 0,
      "outputs": [
        {
          "output_type": "stream",
          "text": [
            "Using TensorFlow backend.\n"
          ],
          "name": "stderr"
        }
      ]
    },
    {
      "cell_type": "code",
      "metadata": {
        "id": "frW6atWmqOOm",
        "colab_type": "code",
        "colab": {}
      },
      "source": [
        "tokenizer = Tokenizer(num_words=None)\n",
        "tokenizer.fit_on_texts(data['text'].values)\n"
      ],
      "execution_count": 0,
      "outputs": []
    },
    {
      "cell_type": "code",
      "metadata": {
        "id": "Bz55OkH5IGjE",
        "colab_type": "code",
        "outputId": "f23ac254-38d7-4bd8-d603-38fbfc3dcd5b",
        "colab": {
          "base_uri": "https://localhost:8080/",
          "height": 52
        }
      },
      "source": [
        "X = tokenizer.texts_to_sequences(data['text'].values)\n",
        "X = pad_sequences(X)\n",
        "\n",
        "Y = pd.get_dummies(df['sentiment']).values\n",
        "X_train, X_test, Y_train, Y_test = train_test_split(X,Y, test_size = 0.2, random_state = 42)\n",
        "print(X_train.shape,Y_train.shape)\n",
        "print(X_test.shape,Y_test.shape)\n"
      ],
      "execution_count": 0,
      "outputs": [
        {
          "output_type": "stream",
          "text": [
            "(40000, 999) (40000, 2)\n",
            "(10000, 999) (10000, 2)\n"
          ],
          "name": "stdout"
        }
      ]
    },
    {
      "cell_type": "code",
      "metadata": {
        "id": "DIK3W1Ymcutj",
        "colab_type": "code",
        "outputId": "2687c060-5a07-4713-cf65-01c1e374dc93",
        "colab": {
          "base_uri": "https://localhost:8080/",
          "height": 575
        }
      },
      "source": [
        "#kernel_initializer='glorot_uniform', recurrent_initializer='orthogonal', bias_initializer='zeros', unit_forget_bias=True, kernel_regularizer=None, recurrent_regularizer=None, bias_regularizer=None, activity_regularizer=None, kernel_constraint=None, recurrent_constraint=None, bias_constraint=None, return_sequences=False, return_state=False, stateful=False\n",
        "embed_dim = 128\n",
        "lstm_out = 196\n",
        "batch_size = 32\n",
        "\n",
        "model = Sequential()\n",
        "model.add(Embedding(2000, embed_dim,input_length = X.shape[1], dropout = 0.2))\n",
        "#model.add(LSTM(lstm_out, dropout_U = 0.2, dropout_W = 0.2))\n",
        "model.add(CuDNNLSTM(lstm_out,kernel_initializer='glorot_uniform', recurrent_initializer='orthogonal',return_sequences=True))\n",
        "model.add(CuDNNLSTM(lstm_out,kernel_initializer='glorot_uniform', recurrent_initializer='orthogonal',return_sequences=True))\n",
        "model.add(CuDNNLSTM(lstm_out,kernel_initializer='glorot_uniform', recurrent_initializer='orthogonal'))\n",
        "model.add(Dense(2,activation='softmax'))\n",
        "model.compile(loss = 'categorical_crossentropy', optimizer='adam',metrics = ['accuracy'])\n",
        "print(model.summary())"
      ],
      "execution_count": 0,
      "outputs": [
        {
          "output_type": "stream",
          "text": [
            "WARNING:tensorflow:From /usr/local/lib/python3.6/dist-packages/keras/backend/tensorflow_backend.py:66: The name tf.get_default_graph is deprecated. Please use tf.compat.v1.get_default_graph instead.\n",
            "\n",
            "WARNING:tensorflow:From /usr/local/lib/python3.6/dist-packages/keras/backend/tensorflow_backend.py:541: The name tf.placeholder is deprecated. Please use tf.compat.v1.placeholder instead.\n",
            "\n",
            "WARNING:tensorflow:From /usr/local/lib/python3.6/dist-packages/keras/backend/tensorflow_backend.py:4432: The name tf.random_uniform is deprecated. Please use tf.random.uniform instead.\n",
            "\n"
          ],
          "name": "stdout"
        },
        {
          "output_type": "stream",
          "text": [
            "/usr/local/lib/python3.6/dist-packages/ipykernel_launcher.py:6: UserWarning: The `dropout` argument is no longer support in `Embedding`. You can apply a `keras.layers.SpatialDropout1D` layer right after the `Embedding` layer to get the same behavior.\n",
            "  \n"
          ],
          "name": "stderr"
        },
        {
          "output_type": "stream",
          "text": [
            "WARNING:tensorflow:From /usr/local/lib/python3.6/dist-packages/keras/optimizers.py:793: The name tf.train.Optimizer is deprecated. Please use tf.compat.v1.train.Optimizer instead.\n",
            "\n",
            "WARNING:tensorflow:From /usr/local/lib/python3.6/dist-packages/keras/backend/tensorflow_backend.py:3576: The name tf.log is deprecated. Please use tf.math.log instead.\n",
            "\n",
            "Model: \"sequential_1\"\n",
            "_________________________________________________________________\n",
            "Layer (type)                 Output Shape              Param #   \n",
            "=================================================================\n",
            "embedding_1 (Embedding)      (None, 999, 128)          256000    \n",
            "_________________________________________________________________\n",
            "cu_dnnlstm_1 (CuDNNLSTM)     (None, 999, 196)          255584    \n",
            "_________________________________________________________________\n",
            "cu_dnnlstm_2 (CuDNNLSTM)     (None, 999, 196)          308896    \n",
            "_________________________________________________________________\n",
            "cu_dnnlstm_3 (CuDNNLSTM)     (None, 196)               308896    \n",
            "_________________________________________________________________\n",
            "dense_1 (Dense)              (None, 2)                 394       \n",
            "=================================================================\n",
            "Total params: 1,129,770\n",
            "Trainable params: 1,129,770\n",
            "Non-trainable params: 0\n",
            "_________________________________________________________________\n",
            "None\n"
          ],
          "name": "stdout"
        }
      ]
    },
    {
      "cell_type": "code",
      "metadata": {
        "id": "VoPPNpOdtP3u",
        "colab_type": "code",
        "outputId": "600402fe-ea90-4946-ab85-eb7b000155fb",
        "colab": {
          "base_uri": "https://localhost:8080/",
          "height": 523
        }
      },
      "source": [
        "from keras.callbacks import EarlyStopping\n",
        "es = EarlyStopping(monitor='val_loss',min_delta=0,patience=2,verbose=0, mode='auto')\n",
        "# Train the LSTM on the training data\n",
        "history = model.fit(\n",
        "\n",
        "    # Training data : features (review) and classes (positive or negative)\n",
        "    X_train, Y_train,\n",
        "                    \n",
        "    # Number of samples to work through before updating the \n",
        "    # internal model parameters via back propagation. The \n",
        "    # higher the batch, the more memory you need.\n",
        "    batch_size=256, \n",
        "\n",
        "    # An epoch is an iteration over the entire training data.\n",
        "    epochs=1000, \n",
        "    \n",
        "    # The model will set apart his fraction of the training \n",
        "    # data, will not train on it, and will evaluate the loss\n",
        "    # and any model metrics on this data at the end of \n",
        "    # each epoch.\n",
        "    validation_split=0.05,\n",
        "    callbacks=[es]\n",
        "    \n",
        ")"
      ],
      "execution_count": 0,
      "outputs": [
        {
          "output_type": "stream",
          "text": [
            "WARNING:tensorflow:From /tensorflow-1.15.2/python3.6/tensorflow_core/python/ops/math_grad.py:1424: where (from tensorflow.python.ops.array_ops) is deprecated and will be removed in a future version.\n",
            "Instructions for updating:\n",
            "Use tf.where in 2.0, which has the same broadcast rule as np.where\n",
            "WARNING:tensorflow:From /usr/local/lib/python3.6/dist-packages/keras/backend/tensorflow_backend.py:1033: The name tf.assign_add is deprecated. Please use tf.compat.v1.assign_add instead.\n",
            "\n",
            "WARNING:tensorflow:From /usr/local/lib/python3.6/dist-packages/keras/backend/tensorflow_backend.py:1020: The name tf.assign is deprecated. Please use tf.compat.v1.assign instead.\n",
            "\n",
            "WARNING:tensorflow:From /usr/local/lib/python3.6/dist-packages/keras/backend/tensorflow_backend.py:3005: The name tf.Session is deprecated. Please use tf.compat.v1.Session instead.\n",
            "\n",
            "Train on 38000 samples, validate on 2000 samples\n",
            "Epoch 1/1000\n",
            "WARNING:tensorflow:From /usr/local/lib/python3.6/dist-packages/keras/backend/tensorflow_backend.py:190: The name tf.get_default_session is deprecated. Please use tf.compat.v1.get_default_session instead.\n",
            "\n",
            "WARNING:tensorflow:From /usr/local/lib/python3.6/dist-packages/keras/backend/tensorflow_backend.py:197: The name tf.ConfigProto is deprecated. Please use tf.compat.v1.ConfigProto instead.\n",
            "\n",
            "WARNING:tensorflow:From /usr/local/lib/python3.6/dist-packages/keras/backend/tensorflow_backend.py:207: The name tf.global_variables is deprecated. Please use tf.compat.v1.global_variables instead.\n",
            "\n",
            "WARNING:tensorflow:From /usr/local/lib/python3.6/dist-packages/keras/backend/tensorflow_backend.py:216: The name tf.is_variable_initialized is deprecated. Please use tf.compat.v1.is_variable_initialized instead.\n",
            "\n",
            "WARNING:tensorflow:From /usr/local/lib/python3.6/dist-packages/keras/backend/tensorflow_backend.py:223: The name tf.variables_initializer is deprecated. Please use tf.compat.v1.variables_initializer instead.\n",
            "\n",
            "38000/38000 [==============================] - 82s 2ms/step - loss: 0.5549 - acc: 0.7124 - val_loss: 0.4461 - val_acc: 0.7930\n",
            "Epoch 2/1000\n",
            "38000/38000 [==============================] - 68s 2ms/step - loss: 0.4345 - acc: 0.8044 - val_loss: 0.4048 - val_acc: 0.8115\n",
            "Epoch 3/1000\n",
            "38000/38000 [==============================] - 68s 2ms/step - loss: 0.4020 - acc: 0.8219 - val_loss: 0.4327 - val_acc: 0.8035\n",
            "Epoch 4/1000\n",
            "38000/38000 [==============================] - 68s 2ms/step - loss: 0.3841 - acc: 0.8317 - val_loss: 0.4248 - val_acc: 0.8130\n"
          ],
          "name": "stdout"
        }
      ]
    },
    {
      "cell_type": "code",
      "metadata": {
        "id": "1y70G1kSEi6k",
        "colab_type": "code",
        "outputId": "e7329e83-f7ee-480c-df6b-8d2ccb8e2343",
        "colab": {
          "base_uri": "https://localhost:8080/",
          "height": 317
        }
      },
      "source": [
        "loss = history.history['loss']\n",
        "val_loss = history.history['val_loss']\n",
        "acc = history.history['acc']\n",
        "val_acc = history.history['val_acc']\n",
        "epochs_ = range(1, len(loss)+1)\n",
        "\n",
        "plt.plot(epochs_, loss, 'ko', label = 'Training Loss')\n",
        "plt.plot(epochs_, val_loss, 'k', label = 'Validation Loss')\n",
        "plt.xlabel('Epochs')\n",
        "plt.ylabel('Loss')\n",
        "plt.title('Training and Validation Loss')\n",
        "plt.legend()"
      ],
      "execution_count": 0,
      "outputs": [
        {
          "output_type": "execute_result",
          "data": {
            "text/plain": [
              "<matplotlib.legend.Legend at 0x7f96506be550>"
            ]
          },
          "metadata": {
            "tags": []
          },
          "execution_count": 55
        },
        {
          "output_type": "display_data",
          "data": {
            "image/png": "[encoded data removed]",
            "text/plain": [
              "<Figure size 432x288 with 1 Axes>"
            ]
          },
          "metadata": {
            "tags": []
          }
        }
      ]
    },
    {
      "cell_type": "code",
      "metadata": {
        "id": "HKiMUKxPEznW",
        "colab_type": "code",
        "outputId": "7f29189c-aee1-4ba6-9c92-a662b67213fc",
        "colab": {
          "base_uri": "https://localhost:8080/",
          "height": 317
        }
      },
      "source": [
        "plt.plot(epochs_, acc, 'yo', label = 'Training Accuracy')\n",
        "plt.plot(epochs_, val_acc, 'y', label = 'Validation Accuracy')\n",
        "plt.xlabel('Epochs')\n",
        "plt.ylabel('Accuracy')\n",
        "plt.title('Training and Validation Accuracy')\n",
        "plt.legend()"
      ],
      "execution_count": 0,
      "outputs": [
        {
          "output_type": "execute_result",
          "data": {
            "text/plain": [
              "<matplotlib.legend.Legend at 0x7f96506aa0b8>"
            ]
          },
          "metadata": {
            "tags": []
          },
          "execution_count": 56
        },
        {
          "output_type": "display_data",
          "data": {
            "image/png": "[encoded data removed]",
            "text/plain": [
              "<Figure size 432x288 with 1 Axes>"
            ]
          },
          "metadata": {
            "tags": []
          }
        }
      ]
    },
    {
      "cell_type": "markdown",
      "metadata": {
        "id": "Bvr4MNSUprKe",
        "colab_type": "text"
      },
      "source": [
        ""
      ]
    },
    {
      "cell_type": "code",
      "metadata": {
        "id": "CujwiaLekoi1",
        "colab_type": "code",
        "outputId": "1d6b33b7-b7ab-4daf-cfb3-a78913d00743",
        "colab": {
          "base_uri": "https://localhost:8080/",
          "height": 52
        }
      },
      "source": [
        "score,acc = model.evaluate(X_test, Y_test, verbose = 2, batch_size = 256)\n",
        "print(\"Score: %.2f\" % (score))\n",
        "print(\"Validation Accuracy: %.2f\" % (acc))"
      ],
      "execution_count": 0,
      "outputs": [
        {
          "output_type": "stream",
          "text": [
            "Score: 0.43\n",
            "Validation Accuracy: 0.81\n"
          ],
          "name": "stdout"
        }
      ]
    }
  ]
}